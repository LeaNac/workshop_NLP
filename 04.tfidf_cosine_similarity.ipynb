{
 "cells": [
  {
   "cell_type": "markdown",
   "id": "544acf4f",
   "metadata": {},
   "source": [
    "# Imports"
   ]
  },
  {
   "cell_type": "code",
   "execution_count": 1,
   "id": "b43c70dd",
   "metadata": {},
   "outputs": [],
   "source": [
    "import pandas as pd\n",
    "import numpy as np\n",
    "import scipy\n",
    "\n",
    "from sklearn.feature_extraction.text import TfidfVectorizer\n",
    "from sklearn.metrics.pairwise import cosine_similarity\n",
    "from sklearn.tree import DecisionTreeClassifier, plot_tree\n",
    "from scipy.spatial.distance import cosine\n",
    "from scipy.sparse import hstack, vstack\n",
    "import matplotlib.pyplot as plt\n",
    "from utils import compute_confusion_matrix, compute_scores"
   ]
  },
  {
   "cell_type": "markdown",
   "id": "d1db3b3e",
   "metadata": {},
   "source": [
    "# Data loading"
   ]
  },
  {
   "cell_type": "code",
   "execution_count": 2,
   "id": "819b7ff1",
   "metadata": {},
   "outputs": [],
   "source": [
    "train_df = pd.read_csv(\"../data/train.csv\").fillna(\"\")\n",
    "test_df = pd.read_csv(\"../data/test.csv\").fillna(\"\")"
   ]
  },
  {
   "cell_type": "code",
   "execution_count": 3,
   "id": "c21396bc",
   "metadata": {
    "scrolled": true
   },
   "outputs": [
    {
     "data": {
      "text/html": [
       "<div>\n",
       "<style scoped>\n",
       "    .dataframe tbody tr th:only-of-type {\n",
       "        vertical-align: middle;\n",
       "    }\n",
       "\n",
       "    .dataframe tbody tr th {\n",
       "        vertical-align: top;\n",
       "    }\n",
       "\n",
       "    .dataframe thead th {\n",
       "        text-align: right;\n",
       "    }\n",
       "</style>\n",
       "<table border=\"1\" class=\"dataframe\">\n",
       "  <thead>\n",
       "    <tr style=\"text-align: right;\">\n",
       "      <th></th>\n",
       "      <th>q1_id</th>\n",
       "      <th>q2_id</th>\n",
       "      <th>q1_text</th>\n",
       "      <th>q2_text</th>\n",
       "      <th>is_duplicate</th>\n",
       "    </tr>\n",
       "  </thead>\n",
       "  <tbody>\n",
       "    <tr>\n",
       "      <th>185080</th>\n",
       "      <td>505950</td>\n",
       "      <td>505951</td>\n",
       "      <td>Are there any good health benefits by eating f...</td>\n",
       "      <td>What are the benefits of fast food?</td>\n",
       "      <td>1</td>\n",
       "    </tr>\n",
       "  </tbody>\n",
       "</table>\n",
       "</div>"
      ],
      "text/plain": [
       "         q1_id   q2_id                                            q1_text  \\\n",
       "185080  505950  505951  Are there any good health benefits by eating f...   \n",
       "\n",
       "                                    q2_text  is_duplicate  \n",
       "185080  What are the benefits of fast food?             1  "
      ]
     },
     "execution_count": 3,
     "metadata": {},
     "output_type": "execute_result"
    }
   ],
   "source": [
    "train_df.sample()"
   ]
  },
  {
   "cell_type": "markdown",
   "id": "da54bb60",
   "metadata": {},
   "source": [
    "# TF-IDF"
   ]
  },
  {
   "cell_type": "markdown",
   "id": "093bd58f",
   "metadata": {},
   "source": [
    "TF-IDF stands for **Term Frequency-Inverse Document Frequency**. This term is used as a feature for the model. \n",
    "\n",
    "It is a measure that can quantify the importance or relevance of string representations (words, phrases, lemmas, etc) in a document amongst a collection of documents (also known as a corpus).\n",
    "\n",
    "**TF**\n",
    "\n",
    "Term frequency works by looking at the frequency of a particular term you are concerned with relative to the document. There are multiple measures, or ways, of defining frequency:\n",
    "\n",
    "- Number of times the word appears in a document (raw count).\n",
    "- Term frequency adjusted for the length of the document (raw count of occurences divided by number of words in the document).\n",
    "- Logarithmically scaled frequency (e.g. log(1 + raw count)).\n",
    "- Boolean frequency (e.g. 1 if the term occurs, or 0 if the term does not occur, in the document).\n",
    "\n",
    "**IDF**\n",
    "\n",
    "Inverse document frequency looks at how common (or uncommon) a word is amongst the corpus. IDF is calculated as follows where **t** is the term (word) we are looking to measure the commonness of and **N** is the number of documents (d) in the corpus (D).. The denominator is simply the number of documents in which the term, t, appears in. \n",
    "\n",
    "- $idf(t,D) = log(\\frac{N}{(count(d\\in D:t\\in d)})$\n",
    "\n",
    "The reason we need IDF is to help correct for words like “of”, “as”, “the”, etc. since they appear frequently in an English corpus. Thus by taking inverse document frequency, we can minimize the weighting of frequent terms while making infrequent terms have a higher impact.\n",
    "\n",
    "In our use case, we can consider the corpus as the set of sentences and each sentences as a document. \n",
    "\n",
    "To summarize the key intuition motivating TF-IDF is the importance of a term is inversely related to its frequency across sentences.TF gives us information on how often a term appears in a sentence and IDF gives us information about the relative rarity of a term in the collection of sentences. By multiplying these values together we can get our final TF-IDF value.\n",
    "\n",
    "Therfore **TF-IDF** : \n",
    "\n",
    "$ tf.idf = count(t \\in d).log(\\frac{N}{(count(d\\in D:t\\in d)})$\n",
    "\n",
    "The higher the TF-IDF score the more important or relevant the term is; as a term gets less relevant, its TF-IDF score will approach 0."
   ]
  },
  {
   "cell_type": "code",
   "execution_count": 4,
   "id": "0185d327",
   "metadata": {},
   "outputs": [],
   "source": [
    "vectorizer = TfidfVectorizer()"
   ]
  },
  {
   "cell_type": "code",
   "execution_count": 5,
   "id": "f8b3edf9",
   "metadata": {
    "scrolled": true
   },
   "outputs": [
    {
     "data": {
      "text/html": [
       "<style>#sk-container-id-1 {color: black;background-color: white;}#sk-container-id-1 pre{padding: 0;}#sk-container-id-1 div.sk-toggleable {background-color: white;}#sk-container-id-1 label.sk-toggleable__label {cursor: pointer;display: block;width: 100%;margin-bottom: 0;padding: 0.3em;box-sizing: border-box;text-align: center;}#sk-container-id-1 label.sk-toggleable__label-arrow:before {content: \"▸\";float: left;margin-right: 0.25em;color: #696969;}#sk-container-id-1 label.sk-toggleable__label-arrow:hover:before {color: black;}#sk-container-id-1 div.sk-estimator:hover label.sk-toggleable__label-arrow:before {color: black;}#sk-container-id-1 div.sk-toggleable__content {max-height: 0;max-width: 0;overflow: hidden;text-align: left;background-color: #f0f8ff;}#sk-container-id-1 div.sk-toggleable__content pre {margin: 0.2em;color: black;border-radius: 0.25em;background-color: #f0f8ff;}#sk-container-id-1 input.sk-toggleable__control:checked~div.sk-toggleable__content {max-height: 200px;max-width: 100%;overflow: auto;}#sk-container-id-1 input.sk-toggleable__control:checked~label.sk-toggleable__label-arrow:before {content: \"▾\";}#sk-container-id-1 div.sk-estimator input.sk-toggleable__control:checked~label.sk-toggleable__label {background-color: #d4ebff;}#sk-container-id-1 div.sk-label input.sk-toggleable__control:checked~label.sk-toggleable__label {background-color: #d4ebff;}#sk-container-id-1 input.sk-hidden--visually {border: 0;clip: rect(1px 1px 1px 1px);clip: rect(1px, 1px, 1px, 1px);height: 1px;margin: -1px;overflow: hidden;padding: 0;position: absolute;width: 1px;}#sk-container-id-1 div.sk-estimator {font-family: monospace;background-color: #f0f8ff;border: 1px dotted black;border-radius: 0.25em;box-sizing: border-box;margin-bottom: 0.5em;}#sk-container-id-1 div.sk-estimator:hover {background-color: #d4ebff;}#sk-container-id-1 div.sk-parallel-item::after {content: \"\";width: 100%;border-bottom: 1px solid gray;flex-grow: 1;}#sk-container-id-1 div.sk-label:hover label.sk-toggleable__label {background-color: #d4ebff;}#sk-container-id-1 div.sk-serial::before {content: \"\";position: absolute;border-left: 1px solid gray;box-sizing: border-box;top: 0;bottom: 0;left: 50%;z-index: 0;}#sk-container-id-1 div.sk-serial {display: flex;flex-direction: column;align-items: center;background-color: white;padding-right: 0.2em;padding-left: 0.2em;position: relative;}#sk-container-id-1 div.sk-item {position: relative;z-index: 1;}#sk-container-id-1 div.sk-parallel {display: flex;align-items: stretch;justify-content: center;background-color: white;position: relative;}#sk-container-id-1 div.sk-item::before, #sk-container-id-1 div.sk-parallel-item::before {content: \"\";position: absolute;border-left: 1px solid gray;box-sizing: border-box;top: 0;bottom: 0;left: 50%;z-index: -1;}#sk-container-id-1 div.sk-parallel-item {display: flex;flex-direction: column;z-index: 1;position: relative;background-color: white;}#sk-container-id-1 div.sk-parallel-item:first-child::after {align-self: flex-end;width: 50%;}#sk-container-id-1 div.sk-parallel-item:last-child::after {align-self: flex-start;width: 50%;}#sk-container-id-1 div.sk-parallel-item:only-child::after {width: 0;}#sk-container-id-1 div.sk-dashed-wrapped {border: 1px dashed gray;margin: 0 0.4em 0.5em 0.4em;box-sizing: border-box;padding-bottom: 0.4em;background-color: white;}#sk-container-id-1 div.sk-label label {font-family: monospace;font-weight: bold;display: inline-block;line-height: 1.2em;}#sk-container-id-1 div.sk-label-container {text-align: center;}#sk-container-id-1 div.sk-container {/* jupyter's `normalize.less` sets `[hidden] { display: none; }` but bootstrap.min.css set `[hidden] { display: none !important; }` so we also need the `!important` here to be able to override the default hidden behavior on the sphinx rendered scikit-learn.org. See: https://github.com/scikit-learn/scikit-learn/issues/21755 */display: inline-block !important;position: relative;}#sk-container-id-1 div.sk-text-repr-fallback {display: none;}</style><div id=\"sk-container-id-1\" class=\"sk-top-container\"><div class=\"sk-text-repr-fallback\"><pre>TfidfVectorizer()</pre><b>In a Jupyter environment, please rerun this cell to show the HTML representation or trust the notebook. <br />On GitHub, the HTML representation is unable to render, please try loading this page with nbviewer.org.</b></div><div class=\"sk-container\" hidden><div class=\"sk-item\"><div class=\"sk-estimator sk-toggleable\"><input class=\"sk-toggleable__control sk-hidden--visually\" id=\"sk-estimator-id-1\" type=\"checkbox\" checked><label for=\"sk-estimator-id-1\" class=\"sk-toggleable__label sk-toggleable__label-arrow\">TfidfVectorizer</label><div class=\"sk-toggleable__content\"><pre>TfidfVectorizer()</pre></div></div></div></div></div>"
      ],
      "text/plain": [
       "TfidfVectorizer()"
      ]
     },
     "execution_count": 5,
     "metadata": {},
     "output_type": "execute_result"
    }
   ],
   "source": [
    "vectorizer.fit(pd.concat([train_df[\"q1_text\"], train_df[\"q2_text\"]]))"
   ]
  },
  {
   "cell_type": "code",
   "execution_count": 6,
   "id": "83f5b850",
   "metadata": {},
   "outputs": [],
   "source": [
    "def create_features(df: pd.DataFrame, vectorizer: TfidfVectorizer) -> pd.DataFrame:\n",
    "    q1_vec = vectorizer.transform(df[\"q1_text\"])\n",
    "    q2_vec = vectorizer.transform(df[\"q2_text\"])\n",
    "    return q1_vec, q2_vec"
   ]
  },
  {
   "cell_type": "code",
   "execution_count": 7,
   "id": "e2306b0d",
   "metadata": {},
   "outputs": [],
   "source": [
    "def cos_sim(a, b):\n",
    "    return cosine_similarity(a, b)[0][0]"
   ]
  },
  {
   "cell_type": "code",
   "execution_count": 8,
   "id": "c4a61c45",
   "metadata": {},
   "outputs": [],
   "source": [
    "q1_vec, q2_vec = create_features(train_df, vectorizer)"
   ]
  },
  {
   "cell_type": "code",
   "execution_count": 9,
   "id": "71f4e939",
   "metadata": {},
   "outputs": [
    {
     "data": {
      "text/plain": [
       "<202145x63449 sparse matrix of type '<class 'numpy.float64'>'\n",
       "\twith 2014678 stored elements in Compressed Sparse Row format>"
      ]
     },
     "execution_count": 9,
     "metadata": {},
     "output_type": "execute_result"
    }
   ],
   "source": [
    "q1_vec"
   ]
  },
  {
   "cell_type": "code",
   "execution_count": 11,
   "id": "b1f143d2",
   "metadata": {
    "scrolled": true
   },
   "outputs": [
    {
     "name": "stdout",
     "output_type": "stream",
     "text": [
      "(202145, 5)\n",
      "(202145, 63449)\n",
      "(202145, 63449)\n"
     ]
    }
   ],
   "source": [
    "print(train_df.shape)\n",
    "print(q1_vec.shape)\n",
    "print(q2_vec.shape)"
   ]
  },
  {
   "cell_type": "markdown",
   "id": "5793fe56",
   "metadata": {},
   "source": [
    "We have a sparse matrix with shape **(202 145 x 63 449)** : \n",
    "\n",
    "- 202 145 lines for all the sentences we have in train_df\n",
    "- 63 449 columns for all the words present in all the sentences, applying tf-idf, we get the score of each word if it is present in the given sentence, 0 otherwise. \n",
    "\n",
    "This is the reason why we get a sparse matrix, that contains a lot of 0 in it. \n",
    "\n",
    "If we **stack the two vectors into a single vector to train the model**, we will get the exact same number of lines (202 145) and much more features (the sum of the two vectors) which correspond to 126 898 features:"
   ]
  },
  {
   "cell_type": "markdown",
   "id": "7ba65195",
   "metadata": {},
   "source": [
    "### Cosine distance :  to check similarity bewteen the questions "
   ]
  },
  {
   "cell_type": "markdown",
   "id": "53c43cc5",
   "metadata": {},
   "source": [
    "Cosine similarity is a metric used to measure how similar the sentences are, irrespective of their size. Mathematically, it measures the cosine of the angle between two vectors projected in a multi-dimensional space.\n",
    "\n",
    "The cosine similarity is advantageous because even if the two similar sentences are far apart by the Euclidean distance (due to **the size of the sentence**), chances are they may still be oriented closer together. The smaller the angle, higher the cosine similarity.\n",
    "\n",
    "#### Quick explanation, why the euclidean is not appropriate for sentences similarity : \n",
    "\n",
    "- Euclidean distance : \n",
    "\n",
    "$\\sqrt{\\sum^{n}_{1}\\left(x_{i}-y_{i}\\right)^{2}}$\n",
    "\n",
    "- Cosine distance : \n",
    "\n",
    "$sim(X,Y) = cos(\\theta_{X,Y}) = \\frac{X.Y}{\\left\\|X\\right\\|.\\left\\|Y\\right\\|}$\n",
    "\n",
    "If we take this example 👇 and compute euclidean distance on these sentences : \n",
    "- text_1 = \"I love playing football with my friends\"\n",
    "- text_2 = \"I hate waching and playing basketball\"\n",
    "- text_3 = \"When I was a kid I was playing football with my friends every day all the evening\"\n",
    "\n",
    "We get those results : \n",
    "\n",
    "|/|Text_1|Text_2|Text_3|\n",
    "|------|------|------|------|\n",
    "|text_1|0.000000|3.000000|3.464102|\n",
    "|text_2| 3.000000|0.000000|4.358899|\n",
    "|text_3| 3.464102|4.358899|0.000000|\n",
    "\n",
    "In this case, the result is not what we expected. The above table presents text 1 to be similar to text 2, which is not pragmatic. As to the meaning of the above sentences, text 1 is similar to text 3. So, there is a factor that spoils the result and affects the Euclidian metric.\n",
    "\n",
    "As you may have figured out by observing the sentences, the length of the text is a factor that affects the result. Long sentences tend to have higher Euclideum score than the short ones.\n",
    "\n",
    "\n",
    "If you want to learn more about these two metrics, cosine and euclidean, you can read [this blog](https://nikoskalikis.medium.com/text-similarity-euclidian-distance-vs-cosine-similarity-3a1167f686a) \n"
   ]
  },
  {
   "cell_type": "markdown",
   "id": "db1592e3",
   "metadata": {},
   "source": [
    "#### Therefore we will use the cosinus similarity as a new feature for the model "
   ]
  },
  {
   "cell_type": "markdown",
   "id": "fd4de023",
   "metadata": {},
   "source": [
    "Applying the map function on all the matrix : "
   ]
  },
  {
   "cell_type": "code",
   "execution_count": 15,
   "id": "8ed0958e",
   "metadata": {},
   "outputs": [
    {
     "name": "stdout",
     "output_type": "stream",
     "text": [
      "CPU times: user 1min 44s, sys: 478 ms, total: 1min 44s\n",
      "Wall time: 1min 45s\n"
     ]
    }
   ],
   "source": [
    "%%time \n",
    "result_map = map(cos_sim, q1_vec, q2_vec)\n",
    "cos_sim_result = list(result_map)"
   ]
  },
  {
   "cell_type": "code",
   "execution_count": 16,
   "id": "f5c1d0e9",
   "metadata": {},
   "outputs": [
    {
     "data": {
      "text/plain": [
       "[0.4311616458185753,\n",
       " 0.27359613477909395,\n",
       " 0.15679509174514905,\n",
       " 0.707137677198991,\n",
       " 0.7820547113664686,\n",
       " 0.565373159566199,\n",
       " 0.7734070180588744,\n",
       " 0.5942380623294409,\n",
       " 0.6297092522122608,\n",
       " 0.6975264610783164,\n",
       " 0.7063299029651017,\n",
       " 0.8536878814491092,\n",
       " 0.22270695021032982,\n",
       " 0.4088166569351638,\n",
       " 0.013725237260734354]"
      ]
     },
     "execution_count": 16,
     "metadata": {},
     "output_type": "execute_result"
    }
   ],
   "source": [
    "# List of the scores of all the question pairs\n",
    "cos_sim_result[:15]"
   ]
  },
  {
   "cell_type": "markdown",
   "id": "876ea842",
   "metadata": {},
   "source": [
    "👇 Below an example of a pair of similar questions, we observe how the cosine-similarity function behaves, what is its score? Does it consider that the two questions are similar? What is the value of the score? "
   ]
  },
  {
   "cell_type": "code",
   "execution_count": 17,
   "id": "aeac92b6",
   "metadata": {},
   "outputs": [
    {
     "name": "stdout",
     "output_type": "stream",
     "text": [
      "  (0, 0)\t0.6975264610783163\n"
     ]
    }
   ],
   "source": [
    "idx = 9\n",
    "\n",
    "print(q1_vec[idx] @ q2_vec[idx].T)"
   ]
  },
  {
   "cell_type": "code",
   "execution_count": 18,
   "id": "01ff0b58",
   "metadata": {},
   "outputs": [
    {
     "name": "stdout",
     "output_type": "stream",
     "text": [
      "How can I learn baking like a pro in Delhi?\n",
      "What is the best way to learn baking in Delhi?\n",
      "\n",
      "-> Are they duplicates ? Yes\n",
      "\n",
      "Scores results : \n",
      "- 0.6975264610783164\n",
      "\n",
      "If we apply the formula X.Y we get :0.6975264610783163 since ||X|| = ||Y|| = 1\n"
     ]
    }
   ],
   "source": [
    "print(train_df[\"q1_text\"].iloc[idx])\n",
    "print(train_df[\"q2_text\"].iloc[idx])\n",
    "print(f\"\\n-> Are they duplicates ? {'Yes' if (train_df['is_duplicate'].iloc[idx]) == 1 else 'No'}\\n\")\n",
    "\n",
    "print(f\"Scores results : \\n- {cos_sim(q1_vec[idx],q2_vec[idx])}\\n\")\n",
    "\n",
    "print(f\"If we apply the formula X.Y we get :{(q1_vec[idx] @ q2_vec[idx].T)[0,0]} since ||X|| = ||Y|| = 1\")"
   ]
  },
  {
   "cell_type": "markdown",
   "id": "a7714341",
   "metadata": {},
   "source": [
    "### Matrix calulations vectorized"
   ]
  },
  {
   "cell_type": "markdown",
   "id": "58b3b3e3",
   "metadata": {},
   "source": [
    "#### 👇 Below we test different approaches of optimized matrix calculations"
   ]
  },
  {
   "cell_type": "code",
   "execution_count": 19,
   "id": "e3f489b7",
   "metadata": {
    "scrolled": true
   },
   "outputs": [
    {
     "name": "stdout",
     "output_type": "stream",
     "text": [
      "CPU times: user 77.5 ms, sys: 15.4 ms, total: 92.9 ms\n",
      "Wall time: 91.7 ms\n"
     ]
    },
    {
     "data": {
      "text/plain": [
       "matrix([[0.43116165],\n",
       "        [0.27359613],\n",
       "        [0.15679509],\n",
       "        ...,\n",
       "        [0.37552765],\n",
       "        [0.6525128 ],\n",
       "        [0.43336309]])"
      ]
     },
     "execution_count": 19,
     "metadata": {},
     "output_type": "execute_result"
    }
   ],
   "source": [
    "%%time\n",
    "q1_vec.multiply(q2_vec).sum(axis=1)"
   ]
  },
  {
   "cell_type": "markdown",
   "id": "ae4a74a8",
   "metadata": {},
   "source": [
    "👉 These results are exactly the same as the ones we get using the cosine similarity function. The only difference in these methods is the calculation time. Matrix calculations are optimized by using the numpy array. For the matrix calculation, it took 448 ms against 1min 43s for the cosine similarity"
   ]
  },
  {
   "cell_type": "code",
   "execution_count": 29,
   "id": "b0b96eba",
   "metadata": {
    "scrolled": true
   },
   "outputs": [
    {
     "name": "stdout",
     "output_type": "stream",
     "text": [
      "  (0, 0)\t0.4311616458185753\n",
      "CPU times: user 1min 8s, sys: 1.02 s, total: 1min 9s\n",
      "Wall time: 1min 10s\n"
     ]
    }
   ],
   "source": [
    "%%time\n",
    "cos_score = []\n",
    "for (a,b) in zip(q1_vec, q2_vec):\n",
    "    cos_score.append(np.dot(a, b.T))\n",
    "print(cos_score[0][0])"
   ]
  },
  {
   "cell_type": "markdown",
   "id": "2a140043",
   "metadata": {},
   "source": [
    "$$\n",
    "    similarity(i) = \\sum\\limits_{j=1}\\limits^{n}{a_{i,j} b_{i,j}}\n",
    "$$"
   ]
  },
  {
   "cell_type": "markdown",
   "id": "9ad848a7",
   "metadata": {},
   "source": [
    "#### Euclidean distance vectorized, to accelerate the computation : "
   ]
  },
  {
   "cell_type": "code",
   "execution_count": 31,
   "id": "c0882f82",
   "metadata": {
    "scrolled": true
   },
   "outputs": [
    {
     "data": {
      "text/plain": [
       "array([[1.06661929],\n",
       "       [1.20532474],\n",
       "       [1.29861843],\n",
       "       ...,\n",
       "       [1.11756194],\n",
       "       [0.83365124],\n",
       "       [1.06455334]])"
      ]
     },
     "execution_count": 31,
     "metadata": {},
     "output_type": "execute_result"
    }
   ],
   "source": [
    "np.sqrt(\n",
    "    np.array(\n",
    "        (q1_vec - q2_vec).multiply(q1_vec - q2_vec).sum(axis=1)\n",
    "    )\n",
    ")"
   ]
  },
  {
   "cell_type": "code",
   "execution_count": 23,
   "id": "09489ced",
   "metadata": {},
   "outputs": [],
   "source": [
    "def rowwise_cosine_similarity(a: scipy.sparse._csr.csr_matrix, b: scipy.sparse._csr.csr_matrix) -> np.ndarray:\n",
    "    return np.array(a.multiply(b).sum(axis=1))[:, 0]"
   ]
  },
  {
   "cell_type": "code",
   "execution_count": 24,
   "id": "d0b5a0c3",
   "metadata": {},
   "outputs": [],
   "source": [
    "def rowwise_euclidian_distance(a: scipy.sparse._csr.csr_matrix, b: scipy.sparse._csr.csr_matrix) -> np.ndarray:\n",
    "    return np.sqrt(np.array((q1_vec - q2_vec).power(2).sum(axis=1)))[:, 0]"
   ]
  },
  {
   "cell_type": "code",
   "execution_count": 27,
   "id": "3c7d0f4c",
   "metadata": {},
   "outputs": [],
   "source": [
    "def relative_length_diff(df: pd.DataFrame) -> pd.Series:\n",
    "    q1_nb_words = df[\"q1_text\"].str.split().str.len()\n",
    "    q2_nb_words = df[\"q2_text\"].str.split().str.len()\n",
    "    max_length = pd.concat([q1_nb_words, q2_nb_words], axis=1).max(axis=1)\n",
    "    length_diff = (q1_nb_words - q2_nb_words).abs()\n",
    "    return length_diff / max_length\n",
    "\n",
    "def common_words_ratio(df: pd.DataFrame) -> pd.Series:\n",
    "    q1_words = df[\"q1_text\"].str.split().map(set)\n",
    "    q2_words = df[\"q2_text\"].str.split().map(set)\n",
    "    common_words_ratio = pd.DataFrame({\"q1_words\": q1_words, \"q2_words\": q2_words}).apply(\n",
    "        lambda row: len(row[\"q1_words\"].intersection(row[\"q2_words\"])) / len(row[\"q1_words\"].union(row[\"q2_words\"])),\n",
    "        axis=1\n",
    "    )\n",
    "    return common_words_ratio\n",
    "\n",
    "def word_present_in_both(word: str, df: pd.DataFrame) -> pd.Series:\n",
    "    return (\n",
    "        df[\"q1_text\"].str.lower().str.contains(word) & \n",
    "        df[\"q2_text\"].str.lower().str.contains(word)\n",
    "    ).astype(int)"
   ]
  },
  {
   "cell_type": "code",
   "execution_count": 28,
   "id": "93c56744",
   "metadata": {},
   "outputs": [],
   "source": [
    "def create_features(df: pd.DataFrame, vectorizer: TfidfVectorizer) -> pd.DataFrame:\n",
    "    q1_vec = vectorizer.transform(df[\"q1_text\"])\n",
    "    q2_vec = vectorizer.transform(df[\"q2_text\"])\n",
    "    return pd.DataFrame({\n",
    "        \"cosine_similarity\": rowwise_cosine_similarity(q1_vec, q2_vec),\n",
    "        \"common_words_ratio\": common_words_ratio(df),\n",
    "        \"how_in_both\": word_present_in_both(\"how\", df),\n",
    "        \"how_many_in_both\": word_present_in_both(\"how many\", df),\n",
    "        \"how_much_in_both\": word_present_in_both(\"how much\", df),\n",
    "        \"why_in_both\": word_present_in_both(\"why\", df),\n",
    "        \"when_in_both\": word_present_in_both(\"when\", df),\n",
    "        \"who_in_both\": word_present_in_both(\"who\", df),\n",
    "        \"what_in_both\": word_present_in_both(\"what\", df)\n",
    "    })"
   ]
  },
  {
   "cell_type": "code",
   "execution_count": 29,
   "id": "5a4d83f5",
   "metadata": {},
   "outputs": [],
   "source": [
    "features = {\n",
    "    \"train\": create_features(train_df, vectorizer),\n",
    "    \"test\": create_features(test_df, vectorizer)\n",
    "}\n",
    "\n",
    "targets = {\n",
    "    \"train\": train_df[\"is_duplicate\"],\n",
    "    \"test\": test_df[\"is_duplicate\"]\n",
    "}"
   ]
  },
  {
   "cell_type": "code",
   "execution_count": 30,
   "id": "16883f86",
   "metadata": {
    "scrolled": true
   },
   "outputs": [
    {
     "data": {
      "text/html": [
       "<style>#sk-container-id-2 {color: black;background-color: white;}#sk-container-id-2 pre{padding: 0;}#sk-container-id-2 div.sk-toggleable {background-color: white;}#sk-container-id-2 label.sk-toggleable__label {cursor: pointer;display: block;width: 100%;margin-bottom: 0;padding: 0.3em;box-sizing: border-box;text-align: center;}#sk-container-id-2 label.sk-toggleable__label-arrow:before {content: \"▸\";float: left;margin-right: 0.25em;color: #696969;}#sk-container-id-2 label.sk-toggleable__label-arrow:hover:before {color: black;}#sk-container-id-2 div.sk-estimator:hover label.sk-toggleable__label-arrow:before {color: black;}#sk-container-id-2 div.sk-toggleable__content {max-height: 0;max-width: 0;overflow: hidden;text-align: left;background-color: #f0f8ff;}#sk-container-id-2 div.sk-toggleable__content pre {margin: 0.2em;color: black;border-radius: 0.25em;background-color: #f0f8ff;}#sk-container-id-2 input.sk-toggleable__control:checked~div.sk-toggleable__content {max-height: 200px;max-width: 100%;overflow: auto;}#sk-container-id-2 input.sk-toggleable__control:checked~label.sk-toggleable__label-arrow:before {content: \"▾\";}#sk-container-id-2 div.sk-estimator input.sk-toggleable__control:checked~label.sk-toggleable__label {background-color: #d4ebff;}#sk-container-id-2 div.sk-label input.sk-toggleable__control:checked~label.sk-toggleable__label {background-color: #d4ebff;}#sk-container-id-2 input.sk-hidden--visually {border: 0;clip: rect(1px 1px 1px 1px);clip: rect(1px, 1px, 1px, 1px);height: 1px;margin: -1px;overflow: hidden;padding: 0;position: absolute;width: 1px;}#sk-container-id-2 div.sk-estimator {font-family: monospace;background-color: #f0f8ff;border: 1px dotted black;border-radius: 0.25em;box-sizing: border-box;margin-bottom: 0.5em;}#sk-container-id-2 div.sk-estimator:hover {background-color: #d4ebff;}#sk-container-id-2 div.sk-parallel-item::after {content: \"\";width: 100%;border-bottom: 1px solid gray;flex-grow: 1;}#sk-container-id-2 div.sk-label:hover label.sk-toggleable__label {background-color: #d4ebff;}#sk-container-id-2 div.sk-serial::before {content: \"\";position: absolute;border-left: 1px solid gray;box-sizing: border-box;top: 0;bottom: 0;left: 50%;z-index: 0;}#sk-container-id-2 div.sk-serial {display: flex;flex-direction: column;align-items: center;background-color: white;padding-right: 0.2em;padding-left: 0.2em;position: relative;}#sk-container-id-2 div.sk-item {position: relative;z-index: 1;}#sk-container-id-2 div.sk-parallel {display: flex;align-items: stretch;justify-content: center;background-color: white;position: relative;}#sk-container-id-2 div.sk-item::before, #sk-container-id-2 div.sk-parallel-item::before {content: \"\";position: absolute;border-left: 1px solid gray;box-sizing: border-box;top: 0;bottom: 0;left: 50%;z-index: -1;}#sk-container-id-2 div.sk-parallel-item {display: flex;flex-direction: column;z-index: 1;position: relative;background-color: white;}#sk-container-id-2 div.sk-parallel-item:first-child::after {align-self: flex-end;width: 50%;}#sk-container-id-2 div.sk-parallel-item:last-child::after {align-self: flex-start;width: 50%;}#sk-container-id-2 div.sk-parallel-item:only-child::after {width: 0;}#sk-container-id-2 div.sk-dashed-wrapped {border: 1px dashed gray;margin: 0 0.4em 0.5em 0.4em;box-sizing: border-box;padding-bottom: 0.4em;background-color: white;}#sk-container-id-2 div.sk-label label {font-family: monospace;font-weight: bold;display: inline-block;line-height: 1.2em;}#sk-container-id-2 div.sk-label-container {text-align: center;}#sk-container-id-2 div.sk-container {/* jupyter's `normalize.less` sets `[hidden] { display: none; }` but bootstrap.min.css set `[hidden] { display: none !important; }` so we also need the `!important` here to be able to override the default hidden behavior on the sphinx rendered scikit-learn.org. See: https://github.com/scikit-learn/scikit-learn/issues/21755 */display: inline-block !important;position: relative;}#sk-container-id-2 div.sk-text-repr-fallback {display: none;}</style><div id=\"sk-container-id-2\" class=\"sk-top-container\"><div class=\"sk-text-repr-fallback\"><pre>DecisionTreeClassifier(class_weight={0: 1, 1: 1.5}, max_depth=6)</pre><b>In a Jupyter environment, please rerun this cell to show the HTML representation or trust the notebook. <br />On GitHub, the HTML representation is unable to render, please try loading this page with nbviewer.org.</b></div><div class=\"sk-container\" hidden><div class=\"sk-item\"><div class=\"sk-estimator sk-toggleable\"><input class=\"sk-toggleable__control sk-hidden--visually\" id=\"sk-estimator-id-2\" type=\"checkbox\" checked><label for=\"sk-estimator-id-2\" class=\"sk-toggleable__label sk-toggleable__label-arrow\">DecisionTreeClassifier</label><div class=\"sk-toggleable__content\"><pre>DecisionTreeClassifier(class_weight={0: 1, 1: 1.5}, max_depth=6)</pre></div></div></div></div></div>"
      ],
      "text/plain": [
       "DecisionTreeClassifier(class_weight={0: 1, 1: 1.5}, max_depth=6)"
      ]
     },
     "execution_count": 30,
     "metadata": {},
     "output_type": "execute_result"
    }
   ],
   "source": [
    "model = DecisionTreeClassifier(max_depth=6, class_weight={0: 1, 1: 1.5})\n",
    "\n",
    "model.fit(features[\"train\"].fillna(0.), targets[\"train\"])"
   ]
  },
  {
   "cell_type": "code",
   "execution_count": 31,
   "id": "fd680901",
   "metadata": {},
   "outputs": [],
   "source": [
    "y_test_true = targets[\"test\"]\n",
    "y_test_pred = model.predict(features[\"test\"].fillna(0))"
   ]
  },
  {
   "cell_type": "code",
   "execution_count": 32,
   "id": "0587bb35",
   "metadata": {},
   "outputs": [
    {
     "data": {
      "text/plain": [
       "{'Accuracy': '69.28%', 'Recall': '84.95%', 'Precision': '55.48%'}"
      ]
     },
     "execution_count": 32,
     "metadata": {},
     "output_type": "execute_result"
    }
   ],
   "source": [
    "compute_scores(y_test_true, y_test_pred)"
   ]
  },
  {
   "cell_type": "code",
   "execution_count": 33,
   "id": "21fe08dc",
   "metadata": {},
   "outputs": [
    {
     "data": {
      "image/png": "[encoded data removed]",
      "text/plain": [
       "<Figure size 750x750 with 1 Axes>"
      ]
     },
     "execution_count": 33,
     "metadata": {},
     "output_type": "execute_result"
    }
   ],
   "source": [
    "compute_confusion_matrix(y_test_true, y_test_pred, dpi=150)"
   ]
  },
  {
   "cell_type": "code",
   "execution_count": 34,
   "id": "e79733c0",
   "metadata": {},
   "outputs": [
    {
     "data": {
      "image/png": "[encoded data removed]",
      "text/plain": [
       "<Figure size 432x288 with 1 Axes>"
      ]
     },
     "metadata": {
      "needs_background": "light"
     },
     "output_type": "display_data"
    }
   ],
   "source": [
    "pd.DataFrame(\n",
    "    list(\n",
    "        zip(\n",
    "            model.feature_names_in_,\n",
    "            model.feature_importances_\n",
    "        )\n",
    "    )\n",
    ").plot.bar(x=0, y=1)\n",
    "\n",
    "plt.show()"
   ]
  },
  {
   "cell_type": "code",
   "execution_count": null,
   "id": "d67b8a3a",
   "metadata": {},
   "outputs": [],
   "source": []
  },
  {
   "cell_type": "code",
   "execution_count": null,
   "id": "59e9cf77",
   "metadata": {},
   "outputs": [],
   "source": []
  },
  {
   "cell_type": "code",
   "execution_count": null,
   "id": "1377a1d3",
   "metadata": {},
   "outputs": [],
   "source": []
  }
 ],
 "metadata": {
  "kernelspec": {
   "display_name": "maker_nlp_env",
   "language": "python",
   "name": "maker_nlp_env"
  },
  "language_info": {
   "codemirror_mode": {
    "name": "ipython",
    "version": 3
   },
   "file_extension": ".py",
   "mimetype": "text/x-python",
   "name": "python",
   "nbconvert_exporter": "python",
   "pygments_lexer": "ipython3",
   "version": "3.10.4"
  }
 },
 "nbformat": 4,
 "nbformat_minor": 5
}
