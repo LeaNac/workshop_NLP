{
 "cells": [
  {
   "cell_type": "code",
   "execution_count": 3,
   "id": "6c93c06e",
   "metadata": {
    "scrolled": true
   },
   "outputs": [
    {
     "name": "stderr",
     "output_type": "stream",
     "text": [
      "/Users/lea.naccache/Desktop/FORMATION/maker-nlp/maker_nlp_env/lib/python3.10/site-packages/tqdm/auto.py:22: TqdmWarning: IProgress not found. Please update jupyter and ipywidgets. See https://ipywidgets.readthedocs.io/en/stable/user_install.html\n",
      "  from .autonotebook import tqdm as notebook_tqdm\n"
     ]
    }
   ],
   "source": [
    "import os\n",
    "import pandas as pd\n",
    "\n",
    "from datasets import load_dataset\n",
    "from sklearn.model_selection import train_test_split"
   ]
  },
  {
   "cell_type": "markdown",
   "id": "47e07574",
   "metadata": {},
   "source": [
    "# Dataset description"
   ]
  },
  {
   "cell_type": "markdown",
   "id": "f069f065",
   "metadata": {},
   "source": [
    "Where else but Quora can a physicist help a chef with a math problem and get cooking tips in return? \n",
    "\n",
    "Quora is **a place to gain and share knowledge—about anything**. It’s a platform to ask questions and connect with people who contribute unique insights and quality answers. This empowers people to learn from each other and to better understand the world.\n",
    "\n",
    "Over 100 million people visit Quora every month, so it's no surprise that many people ask similarly worded questions. Multiple questions with the same intent can cause seekers to spend more time finding the best answer to their question, and make writers feel they need to answer multiple versions of the same question. Quora values canonical questions because they provide a better experience to active seekers and writers, and offer more value to both of these groups in the long term.\n",
    "\n",
    "Currently, Quora uses a Random Forest model to identify duplicate questions. In this competition, Kagglers are challenged to tackle this natural language processing problem by applying advanced techniques to classify whether question pairs are duplicates or not. Doing so will make it easier to find high quality answers to questions resulting in an improved experience for Quora writers, seekers, and readers."
   ]
  },
  {
   "cell_type": "code",
   "execution_count": 4,
   "id": "1c408b46",
   "metadata": {
    "scrolled": true
   },
   "outputs": [
    {
     "name": "stderr",
     "output_type": "stream",
     "text": [
      "Downloading builder script: 2.38kB [00:00, 734kB/s]                                                       \n",
      "Downloading metadata: 1.13kB [00:00, 729kB/s]                                                             \n",
      "Using custom data configuration default\n"
     ]
    },
    {
     "name": "stdout",
     "output_type": "stream",
     "text": [
      "Downloading and preparing dataset quora/default (download: 55.48 MiB, generated: 55.46 MiB, post-processed: Unknown size, total: 110.94 MiB) to /Users/lea.naccache/.cache/huggingface/datasets/quora/default/0.0.0/36ba4cd42107f051a158016f1bea6ae3f4685c5df843529108a54e42d86c1e04...\n"
     ]
    },
    {
     "name": "stderr",
     "output_type": "stream",
     "text": [
      "Downloading data files:   0%|                                                       | 0/1 [00:00<?, ?it/s]\n",
      "Downloading data:   0%|                                                       | 0.00/58.2M [00:00<?, ?B/s]\u001b[A\n",
      "Downloading data:   0%|                                               | 92.2k/58.2M [00:00<01:05, 887kB/s]\u001b[A\n",
      "Downloading data:   1%|▏                                              | 296k/58.2M [00:00<00:40, 1.41MB/s]\u001b[A\n",
      "Downloading data:   1%|▍                                              | 521k/58.2M [00:00<00:32, 1.77MB/s]\u001b[A\n",
      "Downloading data:   1%|▌                                              | 750k/58.2M [00:00<00:29, 1.95MB/s]\u001b[A\n",
      "Downloading data:   2%|▊                                              | 946k/58.2M [00:00<00:30, 1.89MB/s]\u001b[A\n",
      "Downloading data:   2%|▉                                             | 1.19M/58.2M [00:00<00:27, 2.06MB/s]\u001b[A\n",
      "Downloading data:   2%|█                                             | 1.40M/58.2M [00:00<00:29, 1.90MB/s]\u001b[A\n",
      "Downloading data:   3%|█▎                                            | 1.66M/58.2M [00:00<00:26, 2.10MB/s]\u001b[A\n",
      "Downloading data:   3%|█▍                                            | 1.87M/58.2M [00:00<00:28, 2.01MB/s]\u001b[A\n",
      "Downloading data:   4%|█▋                                            | 2.11M/58.2M [00:01<00:26, 2.11MB/s]\u001b[A\n",
      "Downloading data:   4%|█▊                                            | 2.34M/58.2M [00:01<00:27, 2.03MB/s]\u001b[A\n",
      "Downloading data:   4%|██                                            | 2.57M/58.2M [00:01<00:26, 2.10MB/s]\u001b[A\n",
      "Downloading data:   5%|██▏                                           | 2.80M/58.2M [00:01<00:26, 2.12MB/s]\u001b[A\n",
      "Downloading data:   5%|██▍                                           | 3.02M/58.2M [00:01<00:26, 2.09MB/s]\u001b[A\n",
      "Downloading data:   6%|██▌                                           | 3.26M/58.2M [00:01<00:25, 2.16MB/s]\u001b[A\n",
      "Downloading data:   6%|██▊                                           | 3.48M/58.2M [00:01<00:28, 1.94MB/s]\u001b[A\n",
      "Downloading data:   6%|██▉                                           | 3.76M/58.2M [00:01<00:26, 2.06MB/s]\u001b[A\n",
      "Downloading data:   7%|███▏                                          | 4.00M/58.2M [00:01<00:25, 2.15MB/s]\u001b[A\n",
      "Downloading data:   7%|███▎                                          | 4.23M/58.2M [00:02<00:26, 2.06MB/s]\u001b[A\n",
      "Downloading data:   8%|███▌                                          | 4.47M/58.2M [00:02<00:25, 2.13MB/s]\u001b[A\n",
      "Downloading data:   8%|███▋                                          | 4.69M/58.2M [00:02<00:29, 1.78MB/s]\u001b[A\n",
      "Downloading data:   8%|███▊                                          | 4.88M/58.2M [00:02<00:40, 1.32MB/s]\u001b[A\n",
      "Downloading data:   9%|████                                          | 5.10M/58.2M [00:02<00:35, 1.49MB/s]\u001b[A\n",
      "Downloading data:   9%|████▏                                         | 5.27M/58.2M [00:02<00:34, 1.54MB/s]\u001b[A\n",
      "Downloading data:   9%|████▎                                         | 5.51M/58.2M [00:02<00:30, 1.73MB/s]\u001b[A\n",
      "Downloading data:  10%|████▌                                         | 5.74M/58.2M [00:03<00:28, 1.85MB/s]\u001b[A\n",
      "Downloading data:  10%|████▋                                         | 5.93M/58.2M [00:03<00:28, 1.82MB/s]\u001b[A\n",
      "Downloading data:  11%|████▉                                         | 6.19M/58.2M [00:03<00:25, 2.01MB/s]\u001b[A\n",
      "Downloading data:  11%|█████                                         | 6.40M/58.2M [00:03<00:26, 1.98MB/s]\u001b[A\n",
      "Downloading data:  11%|█████▏                                        | 6.62M/58.2M [00:03<00:25, 2.01MB/s]\u001b[A\n",
      "Downloading data:  12%|█████▍                                        | 6.86M/58.2M [00:03<00:31, 1.65MB/s]\u001b[A\n",
      "Downloading data:  12%|█████▌                                        | 7.04M/58.2M [00:03<00:33, 1.50MB/s]\u001b[A\n",
      "Downloading data:  12%|█████▋                                        | 7.20M/58.2M [00:04<00:40, 1.27MB/s]\u001b[A\n",
      "Downloading data:  13%|█████▊                                        | 7.39M/58.2M [00:04<00:36, 1.38MB/s]\u001b[A\n",
      "Downloading data:  13%|██████                                        | 7.62M/58.2M [00:04<00:32, 1.58MB/s]\u001b[A\n",
      "Downloading data:  13%|██████▏                                       | 7.83M/58.2M [00:04<00:29, 1.72MB/s]\u001b[A\n",
      "Downloading data:  14%|██████▎                                       | 8.03M/58.2M [00:04<00:28, 1.78MB/s]\u001b[A\n",
      "Downloading data:  14%|██████▌                                       | 8.26M/58.2M [00:04<00:26, 1.91MB/s]\u001b[A\n",
      "Downloading data:  15%|██████▋                                       | 8.46M/58.2M [00:04<00:29, 1.67MB/s]\u001b[A\n",
      "Downloading data:  15%|██████▊                                       | 8.64M/58.2M [00:04<00:39, 1.24MB/s]\u001b[A\n",
      "Downloading data:  15%|██████▉                                       | 8.78M/58.2M [00:05<00:41, 1.18MB/s]\u001b[A\n",
      "Downloading data:  15%|███████                                       | 8.96M/58.2M [00:05<00:37, 1.30MB/s]\u001b[A\n",
      "Downloading data:  16%|███████▏                                      | 9.14M/58.2M [00:05<00:34, 1.42MB/s]\u001b[A\n",
      "Downloading data:  16%|███████▎                                      | 9.30M/58.2M [00:05<00:33, 1.47MB/s]\u001b[A\n",
      "Downloading data:  16%|███████▍                                      | 9.48M/58.2M [00:05<00:31, 1.55MB/s]\u001b[A\n",
      "Downloading data:  17%|███████▋                                      | 9.67M/58.2M [00:05<00:29, 1.64MB/s]\u001b[A\n",
      "Downloading data:  17%|███████▊                                      | 9.84M/58.2M [00:05<00:29, 1.66MB/s]\u001b[A\n",
      "Downloading data:  17%|███████▉                                      | 10.0M/58.2M [00:05<00:28, 1.70MB/s]\u001b[A\n",
      "Downloading data:  18%|████████                                      | 10.2M/58.2M [00:05<00:27, 1.74MB/s]\u001b[A\n",
      "Downloading data:  18%|████████▏                                     | 10.4M/58.2M [00:05<00:27, 1.75MB/s]\u001b[A\n",
      "Downloading data:  18%|████████▎                                     | 10.6M/58.2M [00:06<00:26, 1.81MB/s]\u001b[A\n",
      "Downloading data:  19%|████████▌                                     | 10.8M/58.2M [00:06<00:26, 1.81MB/s]\u001b[A\n",
      "Downloading data:  19%|████████▋                                     | 11.0M/58.2M [00:06<00:25, 1.83MB/s]\u001b[A\n",
      "Downloading data:  19%|████████▊                                     | 11.2M/58.2M [00:06<00:25, 1.86MB/s]\u001b[A\n",
      "Downloading data:  19%|████████▉                                     | 11.3M/58.2M [00:06<00:25, 1.86MB/s]\u001b[A\n",
      "Downloading data:  20%|█████████                                     | 11.5M/58.2M [00:06<00:24, 1.88MB/s]\u001b[A\n",
      "Downloading data:  20%|█████████▎                                    | 11.7M/58.2M [00:06<00:25, 1.86MB/s]\u001b[A\n",
      "Downloading data:  20%|█████████▍                                    | 11.9M/58.2M [00:06<00:24, 1.88MB/s]\u001b[A\n",
      "Downloading data:  21%|█████████▌                                    | 12.1M/58.2M [00:06<00:24, 1.90MB/s]\u001b[A\n",
      "Downloading data:  21%|█████████▋                                    | 12.3M/58.2M [00:07<00:23, 1.93MB/s]\u001b[A\n",
      "Downloading data:  22%|█████████▉                                    | 12.5M/58.2M [00:07<00:26, 1.75MB/s]\u001b[A\n",
      "Downloading data:  22%|██████████                                    | 12.7M/58.2M [00:07<00:35, 1.30MB/s]\u001b[A\n",
      "Downloading data:  22%|██████████▏                                   | 12.8M/58.2M [00:07<00:33, 1.34MB/s]\u001b[A\n",
      "Downloading data:  22%|██████████▎                                   | 13.0M/58.2M [00:07<00:33, 1.34MB/s]\u001b[A\n",
      "Downloading data:  23%|██████████▍                                   | 13.2M/58.2M [00:07<00:32, 1.39MB/s]\u001b[A\n",
      "Downloading data:  23%|██████████▌                                   | 13.3M/58.2M [00:07<00:30, 1.47MB/s]\u001b[A\n",
      "Downloading data:  23%|██████████▋                                   | 13.5M/58.2M [00:07<00:29, 1.49MB/s]\u001b[A\n",
      "Downloading data:  23%|██████████▊                                   | 13.6M/58.2M [00:07<00:29, 1.52MB/s]\u001b[A\n",
      "Downloading data:  24%|██████████▉                                   | 13.8M/58.2M [00:08<00:28, 1.57MB/s]\u001b[A\n",
      "Downloading data:  24%|███████████                                   | 14.0M/58.2M [00:08<00:27, 1.61MB/s]\u001b[A\n",
      "Downloading data:  24%|███████████▏                                  | 14.2M/58.2M [00:08<00:26, 1.64MB/s]\u001b[A\n",
      "Downloading data:  25%|███████████▎                                  | 14.3M/58.2M [00:08<00:26, 1.68MB/s]\u001b[A\n"
     ]
    },
    {
     "name": "stderr",
     "output_type": "stream",
     "text": [
      "Downloading data:  25%|███████████▍                                  | 14.5M/58.2M [00:08<00:25, 1.69MB/s]\u001b[A\n",
      "Downloading data:  25%|███████████▌                                  | 14.7M/58.2M [00:08<00:25, 1.72MB/s]\u001b[A\n",
      "Downloading data:  26%|███████████▊                                  | 14.9M/58.2M [00:08<00:24, 1.75MB/s]\u001b[A\n",
      "Downloading data:  26%|███████████▉                                  | 15.1M/58.2M [00:08<00:24, 1.76MB/s]\u001b[A\n",
      "Downloading data:  26%|████████████                                  | 15.2M/58.2M [00:08<00:24, 1.77MB/s]\u001b[A\n",
      "Downloading data:  27%|████████████▏                                 | 15.4M/58.2M [00:09<00:23, 1.83MB/s]\u001b[A\n",
      "Downloading data:  27%|████████████▎                                 | 15.6M/58.2M [00:09<00:23, 1.83MB/s]\u001b[A\n",
      "Downloading data:  27%|████████████▌                                 | 15.8M/58.2M [00:09<00:23, 1.84MB/s]\u001b[A\n",
      "Downloading data:  28%|████████████▋                                 | 16.0M/58.2M [00:09<00:23, 1.83MB/s]\u001b[A\n",
      "Downloading data:  28%|████████████▊                                 | 16.2M/58.2M [00:09<00:22, 1.88MB/s]\u001b[A\n",
      "Downloading data:  28%|████████████▉                                 | 16.4M/58.2M [00:09<00:22, 1.89MB/s]\u001b[A\n",
      "Downloading data:  29%|█████████████▏                                | 16.6M/58.2M [00:09<00:21, 1.91MB/s]\u001b[A\n",
      "Downloading data:  29%|█████████████▎                                | 16.8M/58.2M [00:09<00:21, 1.92MB/s]\u001b[A\n",
      "Downloading data:  29%|█████████████▍                                | 17.0M/58.2M [00:09<00:21, 1.89MB/s]\u001b[A\n",
      "Downloading data:  30%|█████████████▌                                | 17.2M/58.2M [00:09<00:21, 1.93MB/s]\u001b[A\n",
      "Downloading data:  30%|█████████████▊                                | 17.4M/58.2M [00:10<00:21, 1.92MB/s]\u001b[A\n",
      "Downloading data:  30%|█████████████▉                                | 17.6M/58.2M [00:10<00:20, 1.94MB/s]\u001b[A\n",
      "Downloading data:  31%|██████████████                                | 17.8M/58.2M [00:10<00:20, 1.94MB/s]\u001b[A\n",
      "Downloading data:  31%|██████████████▏                               | 18.0M/58.2M [00:10<00:20, 1.96MB/s]\u001b[A\n",
      "Downloading data:  31%|██████████████▍                               | 18.2M/58.2M [00:10<00:20, 1.95MB/s]\u001b[A\n",
      "Downloading data:  32%|██████████████▌                               | 18.4M/58.2M [00:10<00:20, 1.99MB/s]\u001b[A\n",
      "Downloading data:  32%|██████████████▋                               | 18.6M/58.2M [00:10<00:20, 1.96MB/s]\u001b[A\n",
      "Downloading data:  32%|██████████████▉                               | 18.8M/58.2M [00:10<00:20, 1.97MB/s]\u001b[A\n",
      "Downloading data:  33%|███████████████                               | 19.0M/58.2M [00:10<00:19, 1.96MB/s]\u001b[A\n",
      "Downloading data:  33%|███████████████▏                              | 19.2M/58.2M [00:10<00:19, 1.98MB/s]\u001b[A\n",
      "Downloading data:  33%|███████████████▎                              | 19.4M/58.2M [00:11<00:19, 1.97MB/s]\u001b[A\n",
      "Downloading data:  34%|███████████████▌                              | 19.6M/58.2M [00:11<00:20, 1.91MB/s]\u001b[A\n",
      "Downloading data:  34%|███████████████▋                              | 19.9M/58.2M [00:11<00:19, 2.01MB/s]\u001b[A\n",
      "Downloading data:  34%|███████████████▊                              | 20.1M/58.2M [00:11<00:22, 1.69MB/s]\u001b[A\n",
      "Downloading data:  35%|████████████████                              | 20.4M/58.2M [00:11<00:18, 2.08MB/s]\u001b[A\n",
      "Downloading data:  35%|████████████████▎                             | 20.6M/58.2M [00:11<00:18, 2.06MB/s]\u001b[A\n",
      "Downloading data:  36%|████████████████▍                             | 20.8M/58.2M [00:11<00:18, 2.05MB/s]\u001b[A\n",
      "Downloading data:  36%|████████████████▋                             | 21.0M/58.2M [00:11<00:18, 2.01MB/s]\u001b[A\n",
      "Downloading data:  36%|████████████████▊                             | 21.2M/58.2M [00:11<00:18, 2.00MB/s]\u001b[A\n",
      "Downloading data:  37%|████████████████▉                             | 21.4M/58.2M [00:12<00:18, 1.97MB/s]\u001b[A\n",
      "Downloading data:  37%|█████████████████                             | 21.6M/58.2M [00:12<00:18, 1.99MB/s]\u001b[A\n",
      "Downloading data:  38%|█████████████████▎                            | 21.9M/58.2M [00:12<00:18, 1.99MB/s]\u001b[A\n",
      "Downloading data:  38%|█████████████████▍                            | 22.1M/58.2M [00:12<00:18, 1.97MB/s]\u001b[A\n",
      "Downloading data:  38%|█████████████████▌                            | 22.3M/58.2M [00:12<00:18, 1.97MB/s]\u001b[A\n",
      "Downloading data:  39%|█████████████████▊                            | 22.5M/58.2M [00:12<00:17, 1.99MB/s]\u001b[A\n",
      "Downloading data:  39%|█████████████████▉                            | 22.7M/58.2M [00:12<00:18, 1.97MB/s]\u001b[A\n",
      "Downloading data:  39%|██████████████████                            | 22.9M/58.2M [00:12<00:17, 1.98MB/s]\u001b[A\n",
      "Downloading data:  40%|██████████████████▏                           | 23.1M/58.2M [00:12<00:17, 1.97MB/s]\u001b[A\n",
      "Downloading data:  40%|██████████████████▍                           | 23.3M/58.2M [00:12<00:17, 1.99MB/s]\u001b[A\n",
      "Downloading data:  40%|██████████████████▌                           | 23.5M/58.2M [00:13<00:17, 2.02MB/s]\u001b[A\n",
      "Downloading data:  41%|██████████████████▋                           | 23.7M/58.2M [00:13<00:17, 2.02MB/s]\u001b[A\n",
      "Downloading data:  41%|██████████████████▉                           | 23.9M/58.2M [00:13<00:16, 2.02MB/s]\u001b[A\n",
      "Downloading data:  41%|███████████████████                           | 24.1M/58.2M [00:13<00:16, 2.06MB/s]\u001b[A\n",
      "Downloading data:  42%|███████████████████▏                          | 24.3M/58.2M [00:13<00:16, 2.05MB/s]\u001b[A\n",
      "Downloading data:  42%|███████████████████▍                          | 24.5M/58.2M [00:13<00:16, 2.07MB/s]\u001b[A\n",
      "Downloading data:  43%|███████████████████▌                          | 24.8M/58.2M [00:13<00:15, 2.10MB/s]\u001b[A\n",
      "Downloading data:  43%|███████████████████▋                          | 25.0M/58.2M [00:13<00:16, 2.02MB/s]\u001b[A\n",
      "Downloading data:  43%|███████████████████▉                          | 25.2M/58.2M [00:13<00:15, 2.12MB/s]\u001b[A\n",
      "Downloading data:  44%|████████████████████                          | 25.4M/58.2M [00:14<00:15, 2.15MB/s]\u001b[A\n",
      "Downloading data:  44%|████████████████████▎                         | 25.7M/58.2M [00:14<00:15, 2.10MB/s]\u001b[A\n",
      "Downloading data:  44%|████████████████████▍                         | 25.9M/58.2M [00:14<00:15, 2.14MB/s]\u001b[A\n",
      "Downloading data:  45%|████████████████████▋                         | 26.1M/58.2M [00:14<00:15, 2.12MB/s]\u001b[A\n",
      "Downloading data:  45%|████████████████████▊                         | 26.3M/58.2M [00:14<00:15, 2.12MB/s]\u001b[A\n",
      "Downloading data:  46%|████████████████████▉                         | 26.5M/58.2M [00:14<00:14, 2.12MB/s]\u001b[A\n",
      "Downloading data:  46%|█████████████████████▏                        | 26.7M/58.2M [00:14<00:14, 2.13MB/s]\u001b[A\n",
      "Downloading data:  46%|█████████████████████▎                        | 26.9M/58.2M [00:14<00:14, 2.13MB/s]\u001b[A\n",
      "Downloading data:  47%|█████████████████████▍                        | 27.2M/58.2M [00:14<00:14, 2.14MB/s]\u001b[A\n",
      "Downloading data:  47%|█████████████████████▋                        | 27.4M/58.2M [00:14<00:14, 2.12MB/s]\u001b[A\n",
      "Downloading data:  47%|█████████████████████▊                        | 27.6M/58.2M [00:15<00:14, 2.14MB/s]\u001b[A\n",
      "Downloading data:  48%|█████████████████████▉                        | 27.8M/58.2M [00:15<00:14, 2.14MB/s]\u001b[A\n",
      "Downloading data:  48%|██████████████████████▏                       | 28.0M/58.2M [00:15<00:14, 2.13MB/s]\u001b[A\n",
      "Downloading data:  49%|██████████████████████▎                       | 28.2M/58.2M [00:15<00:14, 2.12MB/s]\u001b[A\n",
      "Downloading data:  49%|██████████████████████▌                       | 28.5M/58.2M [00:15<00:13, 2.16MB/s]\u001b[A\n",
      "Downloading data:  49%|██████████████████████▋                       | 28.7M/58.2M [00:15<00:13, 2.13MB/s]\u001b[A\n",
      "Downloading data:  50%|██████████████████████▊                       | 28.9M/58.2M [00:15<00:13, 2.14MB/s]\u001b[A\n",
      "Downloading data:  50%|███████████████████████                       | 29.1M/58.2M [00:15<00:13, 2.13MB/s]\u001b[A\n",
      "Downloading data:  50%|███████████████████████▏                      | 29.3M/58.2M [00:15<00:13, 2.12MB/s]\u001b[A\n",
      "Downloading data:  51%|███████████████████████▎                      | 29.6M/58.2M [00:15<00:13, 2.13MB/s]\u001b[A\n",
      "Downloading data:  51%|███████████████████████▌                      | 29.8M/58.2M [00:16<00:13, 2.13MB/s]\u001b[A\n"
     ]
    },
    {
     "name": "stderr",
     "output_type": "stream",
     "text": [
      "Downloading data:  52%|███████████████████████▋                      | 30.0M/58.2M [00:16<00:13, 2.15MB/s]\u001b[A\n",
      "Downloading data:  52%|███████████████████████▉                      | 30.2M/58.2M [00:16<00:13, 2.12MB/s]\u001b[A\n",
      "Downloading data:  52%|████████████████████████                      | 30.4M/58.2M [00:16<00:12, 2.15MB/s]\u001b[A\n",
      "Downloading data:  53%|████████████████████████▏                     | 30.7M/58.2M [00:16<00:12, 2.13MB/s]\u001b[A\n",
      "Downloading data:  53%|████████████████████████▍                     | 30.9M/58.2M [00:16<00:12, 2.15MB/s]\u001b[A\n",
      "Downloading data:  53%|████████████████████████▌                     | 31.1M/58.2M [00:16<00:12, 2.14MB/s]\u001b[A\n",
      "Downloading data:  54%|████████████████████████▊                     | 31.3M/58.2M [00:16<00:12, 2.13MB/s]\u001b[A\n",
      "Downloading data:  54%|████████████████████████▉                     | 31.5M/58.2M [00:16<00:12, 2.13MB/s]\u001b[A\n",
      "Downloading data:  55%|█████████████████████████                     | 31.7M/58.2M [00:16<00:12, 2.11MB/s]\u001b[A\n",
      "Downloading data:  55%|█████████████████████████▎                    | 32.0M/58.2M [00:17<00:12, 2.14MB/s]\u001b[A\n",
      "Downloading data:  55%|█████████████████████████▍                    | 32.2M/58.2M [00:17<00:12, 2.14MB/s]\u001b[A\n",
      "Downloading data:  56%|█████████████████████████▌                    | 32.4M/58.2M [00:17<00:12, 2.12MB/s]\u001b[A\n",
      "Downloading data:  56%|█████████████████████████▊                    | 32.6M/58.2M [00:17<00:12, 2.12MB/s]\u001b[A\n",
      "Downloading data:  56%|█████████████████████████▉                    | 32.8M/58.2M [00:17<00:11, 2.12MB/s]\u001b[A\n",
      "Downloading data:  57%|██████████████████████████▏                   | 33.1M/58.2M [00:17<00:11, 2.14MB/s]\u001b[A\n",
      "Downloading data:  57%|██████████████████████████▎                   | 33.3M/58.2M [00:17<00:11, 2.13MB/s]\u001b[A\n",
      "Downloading data:  58%|██████████████████████████▍                   | 33.5M/58.2M [00:17<00:11, 2.13MB/s]\u001b[A\n",
      "Downloading data:  58%|██████████████████████████▋                   | 33.7M/58.2M [00:17<00:11, 2.12MB/s]\u001b[A\n",
      "Downloading data:  58%|██████████████████████████▊                   | 33.9M/58.2M [00:18<00:11, 2.11MB/s]\u001b[A\n",
      "Downloading data:  59%|██████████████████████████▉                   | 34.1M/58.2M [00:18<00:11, 2.13MB/s]\u001b[A\n",
      "Downloading data:  59%|███████████████████████████▏                  | 34.4M/58.2M [00:18<00:11, 2.11MB/s]\u001b[A\n",
      "Downloading data:  59%|███████████████████████████▎                  | 34.6M/58.2M [00:18<00:10, 2.15MB/s]\u001b[A\n",
      "Downloading data:  60%|███████████████████████████▌                  | 34.8M/58.2M [00:18<00:10, 2.15MB/s]\u001b[A\n",
      "Downloading data:  60%|███████████████████████████▋                  | 35.0M/58.2M [00:18<00:10, 2.14MB/s]\u001b[A\n",
      "Downloading data:  61%|███████████████████████████▊                  | 35.2M/58.2M [00:18<00:10, 2.14MB/s]\u001b[A\n",
      "Downloading data:  61%|████████████████████████████                  | 35.4M/58.2M [00:18<00:10, 2.12MB/s]\u001b[A\n",
      "Downloading data:  61%|████████████████████████████▏                 | 35.7M/58.2M [00:18<00:10, 2.13MB/s]\u001b[A\n",
      "Downloading data:  62%|████████████████████████████▍                 | 35.9M/58.2M [00:18<00:10, 2.14MB/s]\u001b[A\n",
      "Downloading data:  62%|████████████████████████████▌                 | 36.1M/58.2M [00:19<00:10, 2.11MB/s]\u001b[A\n",
      "Downloading data:  62%|████████████████████████████▋                 | 36.3M/58.2M [00:19<00:10, 2.12MB/s]\u001b[A\n",
      "Downloading data:  63%|████████████████████████████▉                 | 36.5M/58.2M [00:19<00:10, 2.13MB/s]\u001b[A\n",
      "Downloading data:  63%|█████████████████████████████                 | 36.8M/58.2M [00:19<00:10, 2.13MB/s]\u001b[A\n",
      "Downloading data:  64%|█████████████████████████████▏                | 37.0M/58.2M [00:19<00:09, 2.14MB/s]\u001b[A\n",
      "Downloading data:  64%|█████████████████████████████▍                | 37.2M/58.2M [00:19<00:09, 2.14MB/s]\u001b[A\n",
      "Downloading data:  64%|█████████████████████████████▌                | 37.4M/58.2M [00:19<00:09, 2.13MB/s]\u001b[A\n",
      "Downloading data:  65%|█████████████████████████████▊                | 37.6M/58.2M [00:19<00:09, 2.13MB/s]\u001b[A\n",
      "Downloading data:  65%|█████████████████████████████▉                | 37.9M/58.2M [00:19<00:09, 2.16MB/s]\u001b[A\n",
      "Downloading data:  65%|██████████████████████████████                | 38.1M/58.2M [00:19<00:09, 2.13MB/s]\u001b[A\n",
      "Downloading data:  66%|██████████████████████████████▎               | 38.3M/58.2M [00:20<00:09, 2.13MB/s]\u001b[A\n",
      "Downloading data:  66%|██████████████████████████████▍               | 38.5M/58.2M [00:20<00:09, 2.12MB/s]\u001b[A\n",
      "Downloading data:  67%|██████████████████████████████▌               | 38.7M/58.2M [00:20<00:09, 2.12MB/s]\u001b[A\n",
      "Downloading data:  67%|██████████████████████████████▊               | 38.9M/58.2M [00:20<00:08, 2.15MB/s]\u001b[A\n",
      "Downloading data:  67%|██████████████████████████████▉               | 39.2M/58.2M [00:20<00:08, 2.13MB/s]\u001b[A\n",
      "Downloading data:  68%|███████████████████████████████▏              | 39.4M/58.2M [00:20<00:08, 2.13MB/s]\u001b[A\n",
      "Downloading data:  68%|███████████████████████████████▎              | 39.6M/58.2M [00:20<00:08, 2.13MB/s]\u001b[A\n",
      "Downloading data:  68%|███████████████████████████████▍              | 39.8M/58.2M [00:20<00:08, 2.10MB/s]\u001b[A\n",
      "Downloading data:  69%|███████████████████████████████▋              | 40.0M/58.2M [00:20<00:08, 2.15MB/s]\u001b[A\n",
      "Downloading data:  69%|███████████████████████████████▊              | 40.3M/58.2M [00:20<00:08, 2.15MB/s]\u001b[A\n",
      "Downloading data:  70%|████████████████████████████████              | 40.5M/58.2M [00:21<00:08, 2.12MB/s]\u001b[A\n",
      "Downloading data:  70%|████████████████████████████████▏             | 40.7M/58.2M [00:21<00:08, 2.15MB/s]\u001b[A\n",
      "Downloading data:  70%|████████████████████████████████▎             | 40.9M/58.2M [00:21<00:08, 2.14MB/s]\u001b[A\n",
      "Downloading data:  71%|████████████████████████████████▌             | 41.1M/58.2M [00:21<00:08, 2.13MB/s]\u001b[A\n",
      "Downloading data:  71%|████████████████████████████████▋             | 41.4M/58.2M [00:21<00:07, 2.15MB/s]\u001b[A\n",
      "Downloading data:  71%|████████████████████████████████▊             | 41.6M/58.2M [00:21<00:07, 2.14MB/s]\u001b[A\n",
      "Downloading data:  72%|█████████████████████████████████             | 41.8M/58.2M [00:21<00:07, 2.13MB/s]\u001b[A\n",
      "Downloading data:  72%|█████████████████████████████████▏            | 42.0M/58.2M [00:21<00:07, 2.14MB/s]\u001b[A\n",
      "Downloading data:  73%|█████████████████████████████████▍            | 42.2M/58.2M [00:21<00:07, 2.04MB/s]\u001b[A\n",
      "Downloading data:  73%|█████████████████████████████████▌            | 42.5M/58.2M [00:22<00:07, 2.12MB/s]\u001b[A\n",
      "Downloading data:  73%|█████████████████████████████████▊            | 42.7M/58.2M [00:22<00:07, 2.17MB/s]\u001b[A\n",
      "Downloading data:  74%|█████████████████████████████████▉            | 42.9M/58.2M [00:22<00:07, 2.15MB/s]\u001b[A\n",
      "Downloading data:  74%|██████████████████████████████████            | 43.1M/58.2M [00:22<00:07, 2.15MB/s]\u001b[A\n",
      "Downloading data:  75%|██████████████████████████████████▎           | 43.4M/58.2M [00:22<00:06, 2.15MB/s]\u001b[A\n",
      "Downloading data:  75%|██████████████████████████████████▍           | 43.6M/58.2M [00:22<00:06, 2.15MB/s]\u001b[A\n",
      "Downloading data:  75%|██████████████████████████████████▌           | 43.8M/58.2M [00:22<00:06, 2.16MB/s]\u001b[A\n",
      "Downloading data:  76%|██████████████████████████████████▊           | 44.0M/58.2M [00:22<00:06, 2.14MB/s]\u001b[A\n",
      "Downloading data:  76%|██████████████████████████████████▉           | 44.2M/58.2M [00:22<00:06, 2.13MB/s]\u001b[A\n",
      "Downloading data:  76%|███████████████████████████████████▏          | 44.4M/58.2M [00:22<00:06, 2.14MB/s]\u001b[A\n",
      "Downloading data:  77%|███████████████████████████████████▎          | 44.7M/58.2M [00:23<00:06, 2.14MB/s]\u001b[A\n",
      "Downloading data:  77%|███████████████████████████████████▍          | 44.9M/58.2M [00:23<00:06, 2.12MB/s]\u001b[A\n",
      "Downloading data:  78%|███████████████████████████████████▋          | 45.1M/58.2M [00:23<00:06, 2.13MB/s]\u001b[A\n",
      "Downloading data:  78%|███████████████████████████████████▊          | 45.3M/58.2M [00:23<00:06, 2.11MB/s]\u001b[A\n",
      "Downloading data:  78%|███████████████████████████████████▉          | 45.5M/58.2M [00:23<00:05, 2.14MB/s]\u001b[A\n",
      "Downloading data:  79%|████████████████████████████████████▏         | 45.7M/58.2M [00:23<00:05, 2.15MB/s]\u001b[A\n",
      "Downloading data:  79%|████████████████████████████████████▎         | 46.0M/58.2M [00:23<00:05, 2.12MB/s]\u001b[A\n"
     ]
    },
    {
     "name": "stderr",
     "output_type": "stream",
     "text": [
      "Downloading data:  79%|████████████████████████████████████▌         | 46.2M/58.2M [00:23<00:05, 2.13MB/s]\u001b[A\n",
      "Downloading data:  80%|████████████████████████████████████▋         | 46.4M/58.2M [00:23<00:05, 2.15MB/s]\u001b[A\n",
      "Downloading data:  80%|████████████████████████████████████▊         | 46.6M/58.2M [00:23<00:05, 2.13MB/s]\u001b[A\n",
      "Downloading data:  80%|█████████████████████████████████████         | 46.8M/58.2M [00:24<00:05, 2.13MB/s]\u001b[A\n",
      "Downloading data:  81%|█████████████████████████████████████▏        | 47.0M/58.2M [00:24<00:05, 2.10MB/s]\u001b[A\n",
      "Downloading data:  81%|█████████████████████████████████████▎        | 47.3M/58.2M [00:24<00:05, 2.14MB/s]\u001b[A\n",
      "Downloading data:  82%|█████████████████████████████████████▌        | 47.5M/58.2M [00:24<00:05, 2.13MB/s]\u001b[A\n",
      "Downloading data:  82%|█████████████████████████████████████▋        | 47.7M/58.2M [00:24<00:04, 2.12MB/s]\u001b[A\n",
      "Downloading data:  82%|█████████████████████████████████████▉        | 47.9M/58.2M [00:24<00:04, 2.13MB/s]\u001b[A\n",
      "Downloading data:  83%|██████████████████████████████████████        | 48.1M/58.2M [00:24<00:04, 2.13MB/s]\u001b[A\n",
      "Downloading data:  83%|██████████████████████████████████████▏       | 48.3M/58.2M [00:24<00:04, 2.14MB/s]\u001b[A\n",
      "Downloading data:  83%|██████████████████████████████████████▍       | 48.6M/58.2M [00:24<00:04, 2.07MB/s]\u001b[A\n",
      "Downloading data:  84%|██████████████████████████████████████▌       | 48.8M/58.2M [00:24<00:04, 2.18MB/s]\u001b[A\n",
      "Downloading data:  84%|██████████████████████████████████████▊       | 49.0M/58.2M [00:25<00:04, 2.15MB/s]\u001b[A\n",
      "Downloading data:  85%|██████████████████████████████████████▉       | 49.2M/58.2M [00:25<00:04, 2.15MB/s]\u001b[A\n",
      "Downloading data:  85%|███████████████████████████████████████       | 49.5M/58.2M [00:25<00:04, 2.14MB/s]\u001b[A\n",
      "Downloading data:  85%|███████████████████████████████████████▎      | 49.7M/58.2M [00:25<00:03, 2.14MB/s]\u001b[A\n",
      "Downloading data:  86%|███████████████████████████████████████▍      | 49.9M/58.2M [00:25<00:03, 2.14MB/s]\u001b[A\n",
      "Downloading data:  86%|███████████████████████████████████████▌      | 50.1M/58.2M [00:25<00:03, 2.16MB/s]\u001b[A\n",
      "Downloading data:  87%|███████████████████████████████████████▊      | 50.3M/58.2M [00:25<00:03, 2.14MB/s]\u001b[A\n",
      "Downloading data:  87%|███████████████████████████████████████▉      | 50.5M/58.2M [00:25<00:03, 2.12MB/s]\u001b[A\n",
      "Downloading data:  87%|████████████████████████████████████████▏     | 50.8M/58.2M [00:25<00:03, 2.13MB/s]\u001b[A\n",
      "Downloading data:  88%|████████████████████████████████████████▎     | 51.0M/58.2M [00:26<00:03, 2.13MB/s]\u001b[A\n",
      "Downloading data:  88%|████████████████████████████████████████▍     | 51.2M/58.2M [00:26<00:03, 2.14MB/s]\u001b[A\n",
      "Downloading data:  88%|████████████████████████████████████████▋     | 51.4M/58.2M [00:26<00:03, 2.13MB/s]\u001b[A\n",
      "Downloading data:  89%|████████████████████████████████████████▊     | 51.6M/58.2M [00:26<00:03, 2.13MB/s]\u001b[A\n",
      "Downloading data:  89%|████████████████████████████████████████▉     | 51.8M/58.2M [00:26<00:02, 2.12MB/s]\u001b[A\n",
      "Downloading data:  89%|█████████████████████████████████████████▏    | 52.1M/58.2M [00:26<00:02, 2.11MB/s]\u001b[A\n",
      "Downloading data:  90%|█████████████████████████████████████████▎    | 52.3M/58.2M [00:26<00:02, 2.11MB/s]\u001b[A\n",
      "Downloading data:  90%|█████████████████████████████████████████▍    | 52.5M/58.2M [00:26<00:02, 2.09MB/s]\u001b[A\n",
      "Downloading data:  91%|█████████████████████████████████████████▋    | 52.7M/58.2M [00:26<00:02, 2.11MB/s]\u001b[A\n",
      "Downloading data:  91%|█████████████████████████████████████████▊    | 52.9M/58.2M [00:26<00:02, 2.11MB/s]\u001b[A\n",
      "Downloading data:  91%|██████████████████████████████████████████    | 53.1M/58.2M [00:27<00:02, 2.13MB/s]\u001b[A\n",
      "Downloading data:  92%|██████████████████████████████████████████▏   | 53.4M/58.2M [00:27<00:02, 2.11MB/s]\u001b[A\n",
      "Downloading data:  92%|██████████████████████████████████████████▎   | 53.6M/58.2M [00:27<00:02, 2.10MB/s]\u001b[A\n",
      "Downloading data:  92%|██████████████████████████████████████████▌   | 53.8M/58.2M [00:27<00:02, 2.12MB/s]\u001b[A\n",
      "Downloading data:  93%|██████████████████████████████████████████▋   | 54.0M/58.2M [00:27<00:01, 2.10MB/s]\u001b[A\n",
      "Downloading data:  93%|██████████████████████████████████████████▉   | 54.3M/58.2M [00:27<00:01, 2.21MB/s]\u001b[A\n",
      "Downloading data:  94%|███████████████████████████████████████████   | 54.5M/58.2M [00:27<00:01, 2.13MB/s]\u001b[A\n",
      "Downloading data:  94%|███████████████████████████████████████████▎  | 54.7M/58.2M [00:27<00:01, 2.12MB/s]\u001b[A\n",
      "Downloading data:  94%|███████████████████████████████████████████▍  | 54.9M/58.2M [00:27<00:01, 2.16MB/s]\u001b[A\n",
      "Downloading data:  95%|███████████████████████████████████████████▌  | 55.2M/58.2M [00:27<00:01, 2.14MB/s]\u001b[A\n",
      "Downloading data:  95%|███████████████████████████████████████████▊  | 55.4M/58.2M [00:28<00:01, 2.15MB/s]\u001b[A\n",
      "Downloading data:  96%|███████████████████████████████████████████▉  | 55.6M/58.2M [00:28<00:01, 2.15MB/s]\u001b[A\n",
      "Downloading data:  96%|████████████████████████████████████████████▏ | 55.8M/58.2M [00:28<00:01, 2.13MB/s]\u001b[A\n",
      "Downloading data:  96%|████████████████████████████████████████████▎ | 56.0M/58.2M [00:28<00:00, 2.16MB/s]\u001b[A\n",
      "Downloading data:  97%|████████████████████████████████████████████▍ | 56.2M/58.2M [00:28<00:00, 2.11MB/s]\u001b[A\n",
      "Downloading data:  97%|████████████████████████████████████████████▋ | 56.5M/58.2M [00:28<00:00, 2.09MB/s]\u001b[A\n",
      "Downloading data:  97%|████████████████████████████████████████████▊ | 56.7M/58.2M [00:28<00:00, 2.15MB/s]\u001b[A\n",
      "Downloading data:  98%|████████████████████████████████████████████▉ | 56.9M/58.2M [00:28<00:00, 2.10MB/s]\u001b[A\n",
      "Downloading data:  98%|█████████████████████████████████████████████▏| 57.1M/58.2M [00:28<00:00, 2.13MB/s]\u001b[A\n",
      "Downloading data:  99%|█████████████████████████████████████████████▎| 57.3M/58.2M [00:28<00:00, 2.14MB/s]\u001b[A\n",
      "Downloading data:  99%|█████████████████████████████████████████████▌| 57.6M/58.2M [00:29<00:00, 2.12MB/s]\u001b[A\n",
      "Downloading data:  99%|█████████████████████████████████████████████▋| 57.8M/58.2M [00:29<00:00, 2.14MB/s]\u001b[A\n",
      "Downloading data: 100%|██████████████████████████████████████████████| 58.2M/58.2M [00:29<00:00, 1.98MB/s]\u001b[A\n",
      "Downloading data files: 100%|███████████████████████████████████████████████| 1/1 [00:30<00:00, 30.15s/it]\n",
      "Extracting data files: 100%|███████████████████████████████████████████████| 1/1 [00:00<00:00, 589.92it/s]\n",
      "                                                                                                          \r"
     ]
    },
    {
     "name": "stdout",
     "output_type": "stream",
     "text": [
      "Dataset quora downloaded and prepared to /Users/lea.naccache/.cache/huggingface/datasets/quora/default/0.0.0/36ba4cd42107f051a158016f1bea6ae3f4685c5df843529108a54e42d86c1e04. Subsequent calls will reuse this data.\n"
     ]
    },
    {
     "name": "stderr",
     "output_type": "stream",
     "text": [
      "100%|███████████████████████████████████████████████████████████████████████| 1/1 [00:00<00:00, 59.00it/s]\n"
     ]
    }
   ],
   "source": [
    "dataset = load_dataset(\"quora\")"
   ]
  },
  {
   "cell_type": "code",
   "execution_count": 5,
   "id": "f423be17",
   "metadata": {},
   "outputs": [
    {
     "data": {
      "text/plain": [
       "datasets.dataset_dict.DatasetDict"
      ]
     },
     "execution_count": 5,
     "metadata": {},
     "output_type": "execute_result"
    }
   ],
   "source": [
    "type(dataset)"
   ]
  },
  {
   "cell_type": "code",
   "execution_count": 6,
   "id": "bcffd599",
   "metadata": {},
   "outputs": [
    {
     "data": {
      "text/plain": [
       "dict_keys(['train'])"
      ]
     },
     "execution_count": 6,
     "metadata": {},
     "output_type": "execute_result"
    }
   ],
   "source": [
    "dataset.keys()"
   ]
  },
  {
   "cell_type": "code",
   "execution_count": 7,
   "id": "9576a401",
   "metadata": {},
   "outputs": [
    {
     "data": {
      "text/plain": [
       "Dataset({\n",
       "    features: ['questions', 'is_duplicate'],\n",
       "    num_rows: 404290\n",
       "})"
      ]
     },
     "execution_count": 7,
     "metadata": {},
     "output_type": "execute_result"
    }
   ],
   "source": [
    "dataset[\"train\"]"
   ]
  },
  {
   "cell_type": "code",
   "execution_count": 8,
   "id": "db8bbb3b",
   "metadata": {},
   "outputs": [
    {
     "data": {
      "text/plain": [
       "{'questions': {'id': [1, 2],\n",
       "  'text': ['What is the step by step guide to invest in share market in india?',\n",
       "   'What is the step by step guide to invest in share market?']},\n",
       " 'is_duplicate': False}"
      ]
     },
     "execution_count": 8,
     "metadata": {},
     "output_type": "execute_result"
    }
   ],
   "source": [
    "dataset[\"train\"][0]"
   ]
  },
  {
   "cell_type": "code",
   "execution_count": 9,
   "id": "64c8208f",
   "metadata": {},
   "outputs": [
    {
     "data": {
      "text/html": [
       "<div>\n",
       "<style scoped>\n",
       "    .dataframe tbody tr th:only-of-type {\n",
       "        vertical-align: middle;\n",
       "    }\n",
       "\n",
       "    .dataframe tbody tr th {\n",
       "        vertical-align: top;\n",
       "    }\n",
       "\n",
       "    .dataframe thead th {\n",
       "        text-align: right;\n",
       "    }\n",
       "</style>\n",
       "<table border=\"1\" class=\"dataframe\">\n",
       "  <thead>\n",
       "    <tr style=\"text-align: right;\">\n",
       "      <th></th>\n",
       "      <th>q1_id</th>\n",
       "      <th>q2_id</th>\n",
       "      <th>q1_text</th>\n",
       "      <th>q2_text</th>\n",
       "      <th>is_duplicate</th>\n",
       "    </tr>\n",
       "  </thead>\n",
       "  <tbody>\n",
       "    <tr>\n",
       "      <th>0</th>\n",
       "      <td>1</td>\n",
       "      <td>2</td>\n",
       "      <td>What is the step by step guide to invest in sh...</td>\n",
       "      <td>What is the step by step guide to invest in sh...</td>\n",
       "      <td>0</td>\n",
       "    </tr>\n",
       "    <tr>\n",
       "      <th>1</th>\n",
       "      <td>3</td>\n",
       "      <td>4</td>\n",
       "      <td>What is the story of Kohinoor (Koh-i-Noor) Dia...</td>\n",
       "      <td>What would happen if the Indian government sto...</td>\n",
       "      <td>0</td>\n",
       "    </tr>\n",
       "    <tr>\n",
       "      <th>2</th>\n",
       "      <td>5</td>\n",
       "      <td>6</td>\n",
       "      <td>How can I increase the speed of my internet co...</td>\n",
       "      <td>How can Internet speed be increased by hacking...</td>\n",
       "      <td>0</td>\n",
       "    </tr>\n",
       "    <tr>\n",
       "      <th>3</th>\n",
       "      <td>7</td>\n",
       "      <td>8</td>\n",
       "      <td>Why am I mentally very lonely? How can I solve...</td>\n",
       "      <td>Find the remainder when [math]23^{24}[/math] i...</td>\n",
       "      <td>0</td>\n",
       "    </tr>\n",
       "    <tr>\n",
       "      <th>4</th>\n",
       "      <td>9</td>\n",
       "      <td>10</td>\n",
       "      <td>Which one dissolve in water quikly sugar, salt...</td>\n",
       "      <td>Which fish would survive in salt water?</td>\n",
       "      <td>0</td>\n",
       "    </tr>\n",
       "  </tbody>\n",
       "</table>\n",
       "</div>"
      ],
      "text/plain": [
       "   q1_id  q2_id                                            q1_text  \\\n",
       "0      1      2  What is the step by step guide to invest in sh...   \n",
       "1      3      4  What is the story of Kohinoor (Koh-i-Noor) Dia...   \n",
       "2      5      6  How can I increase the speed of my internet co...   \n",
       "3      7      8  Why am I mentally very lonely? How can I solve...   \n",
       "4      9     10  Which one dissolve in water quikly sugar, salt...   \n",
       "\n",
       "                                             q2_text  is_duplicate  \n",
       "0  What is the step by step guide to invest in sh...             0  \n",
       "1  What would happen if the Indian government sto...             0  \n",
       "2  How can Internet speed be increased by hacking...             0  \n",
       "3  Find the remainder when [math]23^{24}[/math] i...             0  \n",
       "4            Which fish would survive in salt water?             0  "
      ]
     },
     "execution_count": 9,
     "metadata": {},
     "output_type": "execute_result"
    }
   ],
   "source": [
    "df = dataset[\"train\"].to_pandas()\n",
    "df = pd.concat(\n",
    "    [\n",
    "        pd.DataFrame(df[\"questions\"].tolist()),\n",
    "        df[\"is_duplicate\"]\n",
    "    ], \n",
    "    axis=1\n",
    ")\n",
    "df = pd.concat(\n",
    "    [\n",
    "        pd.DataFrame(df[\"id\"].tolist()),\n",
    "        pd.DataFrame(df[\"text\"].tolist()),\n",
    "        df[\"is_duplicate\"].astype(int)\n",
    "    ],\n",
    "    axis=1\n",
    ")\n",
    "df.columns = [\"q1_id\", \"q2_id\", \"q1_text\", \"q2_text\", \"is_duplicate\"]\n",
    "\n",
    "df.head()"
   ]
  },
  {
   "cell_type": "code",
   "execution_count": 10,
   "id": "986b4844",
   "metadata": {},
   "outputs": [],
   "source": [
    "train_df, test_df = train_test_split(df, \n",
    "                                     test_size=0.5, \n",
    "                                     stratify=df[\"is_duplicate\"],\n",
    "                                     random_state=42)"
   ]
  },
  {
   "cell_type": "code",
   "execution_count": 11,
   "id": "565a26dd",
   "metadata": {},
   "outputs": [
    {
     "name": "stdout",
     "output_type": "stream",
     "text": [
      "Proportion of duplicates in TRAIN: 36.9200%\n",
      "Proportion of duplicates in TEST: 36.9195%\n"
     ]
    }
   ],
   "source": [
    "print(\"Proportion of duplicates in TRAIN:\", \"{:.4%}\".format(train_df[\"is_duplicate\"].mean()))\n",
    "print(\"Proportion of duplicates in TEST:\", \"{:.4%}\".format(test_df[\"is_duplicate\"].mean()))"
   ]
  },
  {
   "cell_type": "code",
   "execution_count": 12,
   "id": "7ad1760d",
   "metadata": {},
   "outputs": [
    {
     "data": {
      "text/html": [
       "<div>\n",
       "<style scoped>\n",
       "    .dataframe tbody tr th:only-of-type {\n",
       "        vertical-align: middle;\n",
       "    }\n",
       "\n",
       "    .dataframe tbody tr th {\n",
       "        vertical-align: top;\n",
       "    }\n",
       "\n",
       "    .dataframe thead th {\n",
       "        text-align: right;\n",
       "    }\n",
       "</style>\n",
       "<table border=\"1\" class=\"dataframe\">\n",
       "  <thead>\n",
       "    <tr style=\"text-align: right;\">\n",
       "      <th></th>\n",
       "      <th>q1_id</th>\n",
       "      <th>q2_id</th>\n",
       "      <th>q1_text</th>\n",
       "      <th>q2_text</th>\n",
       "      <th>is_duplicate</th>\n",
       "    </tr>\n",
       "  </thead>\n",
       "  <tbody>\n",
       "    <tr>\n",
       "      <th>171789</th>\n",
       "      <td>265395</td>\n",
       "      <td>265396</td>\n",
       "      <td>Which is more dangerous the far right or the f...</td>\n",
       "      <td>What is far-right, centre-left, labor etc. and...</td>\n",
       "      <td>0</td>\n",
       "    </tr>\n",
       "    <tr>\n",
       "      <th>165943</th>\n",
       "      <td>236311</td>\n",
       "      <td>257592</td>\n",
       "      <td>How did you run $1,000 into $100,000 in cattle...</td>\n",
       "      <td>How much capital do you need to buy enough sto...</td>\n",
       "      <td>0</td>\n",
       "    </tr>\n",
       "    <tr>\n",
       "      <th>355458</th>\n",
       "      <td>484691</td>\n",
       "      <td>484692</td>\n",
       "      <td>Is there any word that can be used to describe...</td>\n",
       "      <td>In which languages, other than Hebrew is the w...</td>\n",
       "      <td>0</td>\n",
       "    </tr>\n",
       "    <tr>\n",
       "      <th>68808</th>\n",
       "      <td>29461</td>\n",
       "      <td>85270</td>\n",
       "      <td>Why do children choose parents teach swim?</td>\n",
       "      <td>Who need to teach children swim?</td>\n",
       "      <td>1</td>\n",
       "    </tr>\n",
       "    <tr>\n",
       "      <th>230214</th>\n",
       "      <td>28318</td>\n",
       "      <td>110667</td>\n",
       "      <td>If the universe is everything, and scientists ...</td>\n",
       "      <td>They say that the universe is forever expandin...</td>\n",
       "      <td>1</td>\n",
       "    </tr>\n",
       "  </tbody>\n",
       "</table>\n",
       "</div>"
      ],
      "text/plain": [
       "         q1_id   q2_id                                            q1_text  \\\n",
       "171789  265395  265396  Which is more dangerous the far right or the f...   \n",
       "165943  236311  257592  How did you run $1,000 into $100,000 in cattle...   \n",
       "355458  484691  484692  Is there any word that can be used to describe...   \n",
       "68808    29461   85270         Why do children choose parents teach swim?   \n",
       "230214   28318  110667  If the universe is everything, and scientists ...   \n",
       "\n",
       "                                                  q2_text  is_duplicate  \n",
       "171789  What is far-right, centre-left, labor etc. and...             0  \n",
       "165943  How much capital do you need to buy enough sto...             0  \n",
       "355458  In which languages, other than Hebrew is the w...             0  \n",
       "68808                    Who need to teach children swim?             1  \n",
       "230214  They say that the universe is forever expandin...             1  "
      ]
     },
     "execution_count": 12,
     "metadata": {},
     "output_type": "execute_result"
    }
   ],
   "source": [
    "train_df.head()"
   ]
  },
  {
   "cell_type": "code",
   "execution_count": 13,
   "id": "c077e75c",
   "metadata": {},
   "outputs": [
    {
     "data": {
      "text/html": [
       "<div>\n",
       "<style scoped>\n",
       "    .dataframe tbody tr th:only-of-type {\n",
       "        vertical-align: middle;\n",
       "    }\n",
       "\n",
       "    .dataframe tbody tr th {\n",
       "        vertical-align: top;\n",
       "    }\n",
       "\n",
       "    .dataframe thead th {\n",
       "        text-align: right;\n",
       "    }\n",
       "</style>\n",
       "<table border=\"1\" class=\"dataframe\">\n",
       "  <thead>\n",
       "    <tr style=\"text-align: right;\">\n",
       "      <th></th>\n",
       "      <th>q1_id</th>\n",
       "      <th>q2_id</th>\n",
       "      <th>q1_text</th>\n",
       "      <th>q2_text</th>\n",
       "      <th>is_duplicate</th>\n",
       "    </tr>\n",
       "  </thead>\n",
       "  <tbody>\n",
       "    <tr>\n",
       "      <th>240472</th>\n",
       "      <td>214176</td>\n",
       "      <td>44437</td>\n",
       "      <td>What are the strongest majors in terms of job ...</td>\n",
       "      <td>What are the strongest majors in terms of job ...</td>\n",
       "      <td>0</td>\n",
       "    </tr>\n",
       "    <tr>\n",
       "      <th>231115</th>\n",
       "      <td>340838</td>\n",
       "      <td>340839</td>\n",
       "      <td>How can I stop binge eating without outside he...</td>\n",
       "      <td>How does one stop binge eating without using p...</td>\n",
       "      <td>1</td>\n",
       "    </tr>\n",
       "    <tr>\n",
       "      <th>36276</th>\n",
       "      <td>66161</td>\n",
       "      <td>66162</td>\n",
       "      <td>I am B Tech holder in biotechnology. I need a ...</td>\n",
       "      <td>Can we Create meeting room reservation in Shar...</td>\n",
       "      <td>0</td>\n",
       "    </tr>\n",
       "    <tr>\n",
       "      <th>350020</th>\n",
       "      <td>54397</td>\n",
       "      <td>220620</td>\n",
       "      <td>What is the best tank in World of Tanks?</td>\n",
       "      <td>What is the best tank in World of Tanks, and why?</td>\n",
       "      <td>1</td>\n",
       "    </tr>\n",
       "    <tr>\n",
       "      <th>228348</th>\n",
       "      <td>267316</td>\n",
       "      <td>337401</td>\n",
       "      <td>What is the meaning of \"You are pretty, yourse...</td>\n",
       "      <td>What does it mean to cut yourself short? What'...</td>\n",
       "      <td>0</td>\n",
       "    </tr>\n",
       "  </tbody>\n",
       "</table>\n",
       "</div>"
      ],
      "text/plain": [
       "         q1_id   q2_id                                            q1_text  \\\n",
       "240472  214176   44437  What are the strongest majors in terms of job ...   \n",
       "231115  340838  340839  How can I stop binge eating without outside he...   \n",
       "36276    66161   66162  I am B Tech holder in biotechnology. I need a ...   \n",
       "350020   54397  220620           What is the best tank in World of Tanks?   \n",
       "228348  267316  337401  What is the meaning of \"You are pretty, yourse...   \n",
       "\n",
       "                                                  q2_text  is_duplicate  \n",
       "240472  What are the strongest majors in terms of job ...             0  \n",
       "231115  How does one stop binge eating without using p...             1  \n",
       "36276   Can we Create meeting room reservation in Shar...             0  \n",
       "350020  What is the best tank in World of Tanks, and why?             1  \n",
       "228348  What does it mean to cut yourself short? What'...             0  "
      ]
     },
     "execution_count": 13,
     "metadata": {},
     "output_type": "execute_result"
    }
   ],
   "source": [
    "test_df.head()"
   ]
  },
  {
   "cell_type": "code",
   "execution_count": 14,
   "id": "9e5a79a2",
   "metadata": {},
   "outputs": [],
   "source": [
    "if not os.path.exists(\"../data\"):\n",
    "    os.mkdir(\"../data\")\n",
    "    \n",
    "train_df.to_csv(\"../data/train.csv\", index=False)\n",
    "test_df.to_csv(\"../data/test.csv\", index=False)"
   ]
  },
  {
   "cell_type": "code",
   "execution_count": null,
   "id": "232ab956",
   "metadata": {},
   "outputs": [],
   "source": []
  }
 ],
 "metadata": {
  "kernelspec": {
   "display_name": "maker_nlp_env",
   "language": "python",
   "name": "maker_nlp_env"
  },
  "language_info": {
   "codemirror_mode": {
    "name": "ipython",
    "version": 3
   },
   "file_extension": ".py",
   "mimetype": "text/x-python",
   "name": "python",
   "nbconvert_exporter": "python",
   "pygments_lexer": "ipython3",
   "version": "3.10.4"
  }
 },
 "nbformat": 4,
 "nbformat_minor": 5
}
