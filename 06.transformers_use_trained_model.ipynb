{
 "cells": [
  {
   "cell_type": "markdown",
   "id": "5290c79f",
   "metadata": {},
   "source": [
    "# Imports"
   ]
  },
  {
   "cell_type": "code",
   "execution_count": 1,
   "id": "57b27e73",
   "metadata": {},
   "outputs": [
    {
     "name": "stderr",
     "output_type": "stream",
     "text": [
      "/Users/sofiene.alouini/miniconda3/envs/maker-nlp/lib/python3.9/site-packages/paramiko/transport.py:236: CryptographyDeprecationWarning: Blowfish has been deprecated\n",
      "  \"class\": algorithms.Blowfish,\n"
     ]
    }
   ],
   "source": [
    "import pandas as pd\n",
    "\n",
    "from sentence_transformers.cross_encoder import CrossEncoder\n",
    "from utils import compute_scores, compute_confusion_matrix"
   ]
  },
  {
   "cell_type": "markdown",
   "id": "5f926788",
   "metadata": {},
   "source": [
    "# Load test data"
   ]
  },
  {
   "cell_type": "code",
   "execution_count": 2,
   "id": "f57bfd2b",
   "metadata": {},
   "outputs": [
    {
     "data": {
      "text/html": [
       "<div>\n",
       "<style scoped>\n",
       "    .dataframe tbody tr th:only-of-type {\n",
       "        vertical-align: middle;\n",
       "    }\n",
       "\n",
       "    .dataframe tbody tr th {\n",
       "        vertical-align: top;\n",
       "    }\n",
       "\n",
       "    .dataframe thead th {\n",
       "        text-align: right;\n",
       "    }\n",
       "</style>\n",
       "<table border=\"1\" class=\"dataframe\">\n",
       "  <thead>\n",
       "    <tr style=\"text-align: right;\">\n",
       "      <th></th>\n",
       "      <th>q1_id</th>\n",
       "      <th>q2_id</th>\n",
       "      <th>q1_text</th>\n",
       "      <th>q2_text</th>\n",
       "      <th>is_duplicate</th>\n",
       "    </tr>\n",
       "  </thead>\n",
       "  <tbody>\n",
       "    <tr>\n",
       "      <th>0</th>\n",
       "      <td>214176</td>\n",
       "      <td>44437</td>\n",
       "      <td>What are the strongest majors in terms of job ...</td>\n",
       "      <td>What are the strongest majors in terms of job ...</td>\n",
       "      <td>0</td>\n",
       "    </tr>\n",
       "    <tr>\n",
       "      <th>1</th>\n",
       "      <td>340838</td>\n",
       "      <td>340839</td>\n",
       "      <td>How can I stop binge eating without outside he...</td>\n",
       "      <td>How does one stop binge eating without using p...</td>\n",
       "      <td>1</td>\n",
       "    </tr>\n",
       "    <tr>\n",
       "      <th>2</th>\n",
       "      <td>66161</td>\n",
       "      <td>66162</td>\n",
       "      <td>I am B Tech holder in biotechnology. I need a ...</td>\n",
       "      <td>Can we Create meeting room reservation in Shar...</td>\n",
       "      <td>0</td>\n",
       "    </tr>\n",
       "    <tr>\n",
       "      <th>3</th>\n",
       "      <td>54397</td>\n",
       "      <td>220620</td>\n",
       "      <td>What is the best tank in World of Tanks?</td>\n",
       "      <td>What is the best tank in World of Tanks, and why?</td>\n",
       "      <td>1</td>\n",
       "    </tr>\n",
       "    <tr>\n",
       "      <th>4</th>\n",
       "      <td>267316</td>\n",
       "      <td>337401</td>\n",
       "      <td>What is the meaning of \"You are pretty, yourse...</td>\n",
       "      <td>What does it mean to cut yourself short? What'...</td>\n",
       "      <td>0</td>\n",
       "    </tr>\n",
       "  </tbody>\n",
       "</table>\n",
       "</div>"
      ],
      "text/plain": [
       "    q1_id   q2_id                                            q1_text  \\\n",
       "0  214176   44437  What are the strongest majors in terms of job ...   \n",
       "1  340838  340839  How can I stop binge eating without outside he...   \n",
       "2   66161   66162  I am B Tech holder in biotechnology. I need a ...   \n",
       "3   54397  220620           What is the best tank in World of Tanks?   \n",
       "4  267316  337401  What is the meaning of \"You are pretty, yourse...   \n",
       "\n",
       "                                             q2_text  is_duplicate  \n",
       "0  What are the strongest majors in terms of job ...             0  \n",
       "1  How does one stop binge eating without using p...             1  \n",
       "2  Can we Create meeting room reservation in Shar...             0  \n",
       "3  What is the best tank in World of Tanks, and why?             1  \n",
       "4  What does it mean to cut yourself short? What'...             0  "
      ]
     },
     "execution_count": 2,
     "metadata": {},
     "output_type": "execute_result"
    }
   ],
   "source": [
    "test_df = pd.read_csv(\"../data/test.csv\").fillna(\"\")\n",
    "\n",
    "test_df.head()"
   ]
  },
  {
   "cell_type": "markdown",
   "id": "60022e82",
   "metadata": {},
   "source": [
    "# Load pretrained model"
   ]
  },
  {
   "cell_type": "code",
   "execution_count": 3,
   "id": "ac8af4b3",
   "metadata": {},
   "outputs": [],
   "source": [
    "model = CrossEncoder(\"./saved_model/\")"
   ]
  },
  {
   "cell_type": "markdown",
   "id": "b3480156",
   "metadata": {},
   "source": [
    "# Compute predictions"
   ]
  },
  {
   "cell_type": "code",
   "execution_count": 4,
   "id": "473c3b48",
   "metadata": {},
   "outputs": [
    {
     "data": {
      "text/plain": [
       "array([0.05668589, 0.8875986 , 0.00249728, ..., 0.8563035 , 0.00986299,\n",
       "       0.00275832], dtype=float32)"
      ]
     },
     "execution_count": 4,
     "metadata": {},
     "output_type": "execute_result"
    }
   ],
   "source": [
    "predictions = model.predict(test_df[[\"q1_text\", \"q2_text\"]].values, batch_size=256)\n",
    "\n",
    "predictions"
   ]
  },
  {
   "cell_type": "markdown",
   "id": "c8252463",
   "metadata": {},
   "source": [
    "# Evaluation"
   ]
  },
  {
   "cell_type": "code",
   "execution_count": 5,
   "id": "64b26259",
   "metadata": {},
   "outputs": [],
   "source": [
    "y_true = test_df[\"is_duplicate\"]\n",
    "y_pred = (predictions >= 0.5).astype(int)"
   ]
  },
  {
   "cell_type": "code",
   "execution_count": 6,
   "id": "e5931902",
   "metadata": {},
   "outputs": [
    {
     "data": {
      "image/png": "[encoded data removed]",
      "text/plain": [
       "<Figure size 1000x1000 with 1 Axes>"
      ]
     },
     "execution_count": 6,
     "metadata": {},
     "output_type": "execute_result"
    }
   ],
   "source": [
    "compute_confusion_matrix(y_true, y_pred)"
   ]
  },
  {
   "cell_type": "code",
   "execution_count": 7,
   "id": "02acdfd2",
   "metadata": {},
   "outputs": [
    {
     "data": {
      "text/plain": [
       "{'Accuracy': '83.73%', 'Recall': '86.79%', 'Precision': '73.76%'}"
      ]
     },
     "execution_count": 7,
     "metadata": {},
     "output_type": "execute_result"
    }
   ],
   "source": [
    "compute_scores(y_true, y_pred)"
   ]
  }
 ],
 "metadata": {
  "kernelspec": {
   "display_name": "maker_nlp_env",
   "language": "python",
   "name": "maker_nlp_env"
  },
  "language_info": {
   "codemirror_mode": {
    "name": "ipython",
    "version": 3
   },
   "file_extension": ".py",
   "mimetype": "text/x-python",
   "name": "python",
   "nbconvert_exporter": "python",
   "pygments_lexer": "ipython3",
   "version": "3.10.4"
  }
 },
 "nbformat": 4,
 "nbformat_minor": 5
}
