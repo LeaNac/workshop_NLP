{
 "cells": [
  {
   "cell_type": "markdown",
   "id": "5c6a3e4f",
   "metadata": {},
   "source": [
    "# Imports"
   ]
  },
  {
   "cell_type": "code",
   "execution_count": 1,
   "id": "5b24b053",
   "metadata": {},
   "outputs": [],
   "source": [
    "import pandas as pd\n",
    "\n",
    "from utils import build_rule_configurator, compute_confusion_matrix, compute_scores"
   ]
  },
  {
   "cell_type": "markdown",
   "id": "da12982d",
   "metadata": {},
   "source": [
    "# Data loading"
   ]
  },
  {
   "cell_type": "code",
   "execution_count": 2,
   "id": "903e3192",
   "metadata": {},
   "outputs": [],
   "source": [
    "train_df = pd.read_csv(\"../data/train.csv\").fillna(\"\")\n",
    "test_df = pd.read_csv(\"../data/test.csv\").fillna(\"\")"
   ]
  },
  {
   "cell_type": "markdown",
   "id": "6cdb1c43",
   "metadata": {},
   "source": [
    "# Feature creation"
   ]
  },
  {
   "cell_type": "markdown",
   "id": "c5e22443",
   "metadata": {},
   "source": [
    "In order to improve our model, we need to define some more interesting set of rules.\n",
    "\n",
    "What kind of rules could be relevant for identifying duplicates ? Here are some possible rules:\n",
    "\n",
    "- An observation (pair of questions) is a duplicate if **the two questions have approximately the same number of words**\n",
    "- An observation is a duplicate if **the two questions have approximately the same number of question marks**\n",
    "- An observation is a duplicate if **most of the words are common between the two questions**\n",
    "\n",
    "Each of these rules can be decomposed into two parts: \n",
    "\n",
    "- A **feature**: this is a numeric attribute of an observation\n",
    "    - e.g. the proportion of common words between the two questions.\n",
    "- A **predicate**: a \"test\" to be conducted on a certain feature, with a `True`/`False` outcome\n",
    "    - e.g. whether the feature is less or greater than a certain threshold\n",
    "\n",
    "**Feature engineering** is the step where we describe our observations as numeric vectors of features. \n",
    "\n",
    "This numeric representation is necessary for Machine Learning, because ML models are mathematical functions that only know how to deal with numbers, and cannot handle raw texts.\n",
    "\n",
    "Let's define the feature engineering functions necessary to create the previously chosen rules:"
   ]
  },
  {
   "cell_type": "markdown",
   "id": "72bf6250",
   "metadata": {},
   "source": [
    "## Relative length difference"
   ]
  },
  {
   "cell_type": "markdown",
   "id": "18808701",
   "metadata": {},
   "source": [
    "The first feature we want to compute is related to the **length of the two questions**.\n",
    "\n",
    "Instead of computing each question's length separately, we'd like to have a **single feature that somehow compares the two lengths**.\n",
    "\n",
    "We can compute such a compound information as follows:\n",
    "\n",
    "$$\n",
    "    \\text{Relative Length Difference} = \\frac{abs( nb\\_words(Q_1) - nb\\_words(Q_2) )}{max(nb\\_words(Q_1), nb\\_words(Q_2))}\n",
    "$$\n",
    "\n",
    "This ratio produces a number between `0` and `1`, to which we can apply a threshold later :\n",
    "\n",
    "> **The closer the feature is to `0`, the most similar are the sentences in terms of length.**"
   ]
  },
  {
   "cell_type": "code",
   "execution_count": 3,
   "id": "cd06e8d4",
   "metadata": {},
   "outputs": [
    {
     "data": {
      "text/plain": [
       "0    0.153846\n",
       "1    0.423077\n",
       "2    0.117647\n",
       "3    0.142857\n",
       "4    0.166667\n",
       "dtype: float64"
      ]
     },
     "execution_count": 3,
     "metadata": {},
     "output_type": "execute_result"
    }
   ],
   "source": [
    "def relative_length_diff(df: pd.DataFrame) -> pd.Series:\n",
    "    q1_nb_words = df[\"q1_text\"].str.split().str.len()\n",
    "    q2_nb_words = df[\"q2_text\"].str.split().str.len()\n",
    "    max_length = pd.concat([q1_nb_words, q2_nb_words], axis=1).max(axis=1)\n",
    "    length_diff = (q1_nb_words - q2_nb_words).abs()\n",
    "    return length_diff / max_length\n",
    "\n",
    "relative_length_diff(train_df).head()"
   ]
  },
  {
   "cell_type": "markdown",
   "id": "b912bd44",
   "metadata": {},
   "source": [
    "The second feature follows the same logic.\n",
    "\n",
    "This time, we want to compare the **number of question marks** between the two questions of a pair.\n",
    "\n",
    "The feature is then defined as follows:\n",
    "\n",
    "$$\n",
    "    \\text{Relative Question Marks Difference} = \\frac{abs( nb\\_question\\_marks(Q_1) - nb\\_question\\_marks(Q_2) )}{max(nb\\_question\\_marks(Q_1), nb\\_question\\_marks(Q_2))}\n",
    "$$\n",
    "\n",
    "Again, this ratio produces a number between `0` and `1`, to which we can apply a threshold later.\n",
    "\n",
    "> **If the value is `0`, the two questions have the same number of question marks.**"
   ]
  },
  {
   "cell_type": "code",
   "execution_count": 4,
   "id": "14e09f3e",
   "metadata": {},
   "outputs": [
    {
     "data": {
      "text/plain": [
       "0    0.0\n",
       "1    0.0\n",
       "2    0.0\n",
       "3    0.0\n",
       "4    0.0\n",
       "dtype: float64"
      ]
     },
     "execution_count": 4,
     "metadata": {},
     "output_type": "execute_result"
    }
   ],
   "source": [
    "def relative_nb_question_marks_diff(df: pd.DataFrame) -> pd.Series:\n",
    "    q1_nb_question_marks = df[\"q1_text\"].str.lower().str.count(\"\\?\")\n",
    "    q2_nb_question_marks = df[\"q2_text\"].str.lower().str.count(\"\\?\")\n",
    "    max_nb_question_marks = pd.concat([q1_nb_question_marks, q2_nb_question_marks], axis=1).max(axis=1)\n",
    "    nb_question_marks_diff = (q1_nb_question_marks - q2_nb_question_marks).abs()\n",
    "    return nb_question_marks_diff / max_nb_question_marks\n",
    "\n",
    "relative_nb_question_marks_diff(train_df).head()"
   ]
  },
  {
   "cell_type": "markdown",
   "id": "09c6a541",
   "metadata": {},
   "source": [
    "The third feature is probably the most intuitive.\n",
    "\n",
    "It represents the **number of unique words in common between the two questions of a pair**. \n",
    "\n",
    "In order to have a ratio, we divide it by the total number of unique words in the two questions of the pair:\n",
    "\n",
    "$$\n",
    "    \\text{Common Words Ratio} = \\frac{\\#\\left( words(Q1) \\bigcap words(Q2) \\right)}{\\#\\left( words(Q1) \\bigcup words(Q2) \\right)}\n",
    "$$\n",
    "\n",
    "Again, the feature is between `0` and `1`.\n",
    "\n",
    "> **The closer the value is to `1`, the more similar the questions are in terms of words used.**"
   ]
  },
  {
   "cell_type": "code",
   "execution_count": 5,
   "id": "ff6ad00e",
   "metadata": {},
   "outputs": [
    {
     "data": {
      "text/plain": [
       "0    0.047619\n",
       "1    0.108108\n",
       "2    0.142857\n",
       "3    0.300000\n",
       "4    0.473684\n",
       "dtype: float64"
      ]
     },
     "execution_count": 5,
     "metadata": {},
     "output_type": "execute_result"
    }
   ],
   "source": [
    "def common_words_ratio(df: pd.DataFrame) -> pd.Series:\n",
    "    q1_words = df[\"q1_text\"].str.split().map(set)\n",
    "    q2_words = df[\"q2_text\"].str.split().map(set)\n",
    "    common_words_ratio = pd.DataFrame({\"q1_words\": q1_words, \"q2_words\": q2_words}).apply(\n",
    "        lambda row: len(row[\"q1_words\"].intersection(row[\"q2_words\"])) / len(row[\"q1_words\"].union(row[\"q2_words\"])),\n",
    "        axis=1\n",
    "    )\n",
    "    return common_words_ratio\n",
    "\n",
    "common_words_ratio(train_df).head()"
   ]
  },
  {
   "cell_type": "markdown",
   "id": "9f30afc3",
   "metadata": {},
   "source": [
    "Once every individual feature is defined, we can create a global **feature engineering function**. \n",
    "\n",
    "This function will be handy in order to make sure we **apply exactly the same processing to training and test data**."
   ]
  },
  {
   "cell_type": "code",
   "execution_count": 6,
   "id": "953484e7",
   "metadata": {},
   "outputs": [],
   "source": [
    "def create_features(df: pd.DataFrame) -> pd.DataFrame:\n",
    "    return pd.DataFrame({\n",
    "        \"relative_length_diff\": relative_length_diff(df),\n",
    "        \"relative_nb_question_marks_diff\": relative_nb_question_marks_diff(df),\n",
    "        \"common_words_ratio\": common_words_ratio(df)\n",
    "    })"
   ]
  },
  {
   "cell_type": "markdown",
   "id": "b1dd4217",
   "metadata": {},
   "source": [
    "Let's create the features for both `train_df` and `test_df`, and store them once and for all.\n",
    "\n",
    "This is possible because **features are fixed characteristics** of our observations.\n",
    "\n",
    "In the rules we're building, **the predicates will vary, but the features are properties of the data that won't change**."
   ]
  },
  {
   "cell_type": "code",
   "execution_count": 7,
   "id": "5d5ab1bb",
   "metadata": {},
   "outputs": [],
   "source": [
    "features = {\n",
    "    \"train\": create_features(train_df),\n",
    "    \"test\": create_features(test_df)\n",
    "}\n",
    "\n",
    "targets = {\n",
    "    \"train\": train_df[\"is_duplicate\"],\n",
    "    \"test\": test_df[\"is_duplicate\"]\n",
    "}"
   ]
  },
  {
   "cell_type": "markdown",
   "id": "35e1da4a",
   "metadata": {},
   "source": [
    "Here is an overview of the features we created from the training dataset:"
   ]
  },
  {
   "cell_type": "code",
   "execution_count": 8,
   "id": "cbe1891c",
   "metadata": {},
   "outputs": [
    {
     "data": {
      "text/html": [
       "<div>\n",
       "<style scoped>\n",
       "    .dataframe tbody tr th:only-of-type {\n",
       "        vertical-align: middle;\n",
       "    }\n",
       "\n",
       "    .dataframe tbody tr th {\n",
       "        vertical-align: top;\n",
       "    }\n",
       "\n",
       "    .dataframe thead th {\n",
       "        text-align: right;\n",
       "    }\n",
       "</style>\n",
       "<table border=\"1\" class=\"dataframe\">\n",
       "  <thead>\n",
       "    <tr style=\"text-align: right;\">\n",
       "      <th></th>\n",
       "      <th>relative_length_diff</th>\n",
       "      <th>relative_nb_question_marks_diff</th>\n",
       "      <th>common_words_ratio</th>\n",
       "    </tr>\n",
       "  </thead>\n",
       "  <tbody>\n",
       "    <tr>\n",
       "      <th>0</th>\n",
       "      <td>0.153846</td>\n",
       "      <td>0.0</td>\n",
       "      <td>0.047619</td>\n",
       "    </tr>\n",
       "    <tr>\n",
       "      <th>1</th>\n",
       "      <td>0.423077</td>\n",
       "      <td>0.0</td>\n",
       "      <td>0.108108</td>\n",
       "    </tr>\n",
       "    <tr>\n",
       "      <th>2</th>\n",
       "      <td>0.117647</td>\n",
       "      <td>0.0</td>\n",
       "      <td>0.142857</td>\n",
       "    </tr>\n",
       "    <tr>\n",
       "      <th>3</th>\n",
       "      <td>0.142857</td>\n",
       "      <td>0.0</td>\n",
       "      <td>0.300000</td>\n",
       "    </tr>\n",
       "    <tr>\n",
       "      <th>4</th>\n",
       "      <td>0.166667</td>\n",
       "      <td>0.0</td>\n",
       "      <td>0.473684</td>\n",
       "    </tr>\n",
       "  </tbody>\n",
       "</table>\n",
       "</div>"
      ],
      "text/plain": [
       "   relative_length_diff  relative_nb_question_marks_diff  common_words_ratio\n",
       "0              0.153846                              0.0            0.047619\n",
       "1              0.423077                              0.0            0.108108\n",
       "2              0.117647                              0.0            0.142857\n",
       "3              0.142857                              0.0            0.300000\n",
       "4              0.166667                              0.0            0.473684"
      ]
     },
     "execution_count": 8,
     "metadata": {},
     "output_type": "execute_result"
    }
   ],
   "source": [
    "features[\"train\"].head()"
   ]
  },
  {
   "cell_type": "markdown",
   "id": "ae6322e6",
   "metadata": {},
   "source": [
    "# Model"
   ]
  },
  {
   "cell_type": "markdown",
   "id": "5f55c1be",
   "metadata": {},
   "source": [
    "Now that we have our features, the next step is to **use them in order to make predictions**.\n",
    "\n",
    "Remember, features are turned into prediction by applying **predicates** (here thresholds) on them.\n",
    "\n",
    "We define a `predict` function. This \"model\" flags a pair of questions as a **duplicate if**:\n",
    "\n",
    "> The Relative Length Difference is **lower than a certain threshold**\n",
    "\n",
    "    ** AND **\n",
    "\n",
    "> The Relative Question Marks Difference is **lower than a certain threshold**\n",
    "\n",
    "    ** AND **\n",
    "\n",
    "> The Common Words Ratio is **higher than a certain threshold**"
   ]
  },
  {
   "cell_type": "code",
   "execution_count": 9,
   "id": "59beea84",
   "metadata": {},
   "outputs": [],
   "source": [
    "def predict(features_df: pd.DataFrame,\n",
    "            max_relative_length_diff: float,\n",
    "            max_relative_nb_question_marks_diff: float,\n",
    "            min_common_words_ratio: float) -> pd.Series:\n",
    "    return (\n",
    "        (features_df[\"relative_length_diff\"] <= max_relative_length_diff) &\n",
    "        (features_df[\"relative_nb_question_marks_diff\"] <= max_relative_nb_question_marks_diff) &\n",
    "        (features_df[\"common_words_ratio\"] >= max_relative_nb_question_marks_diff)\n",
    "    ).astype(int)"
   ]
  },
  {
   "cell_type": "markdown",
   "id": "e5d14b28",
   "metadata": {},
   "source": [
    "We apply our prediction model to the training data using a first set of thresholds:"
   ]
  },
  {
   "cell_type": "code",
   "execution_count": 10,
   "id": "ffd10489",
   "metadata": {},
   "outputs": [],
   "source": [
    "y_pred_train = predict(features_df=features[\"train\"],\n",
    "                       max_relative_length_diff=0.20,\n",
    "                       max_relative_nb_question_marks_diff=0.50,\n",
    "                       min_common_words_ratio=0.75)\n",
    "\n",
    "y_true_train = targets[\"train\"]"
   ]
  },
  {
   "cell_type": "markdown",
   "id": "c183e45c",
   "metadata": {},
   "source": [
    "Let's see how good is this set of thresholds:"
   ]
  },
  {
   "cell_type": "code",
   "execution_count": 11,
   "id": "339ebea5",
   "metadata": {},
   "outputs": [
    {
     "data": {
      "image/png": "[encoded data removed]",
      "text/plain": [
       "<Figure size 600x600 with 1 Axes>"
      ]
     },
     "execution_count": 11,
     "metadata": {},
     "output_type": "execute_result"
    }
   ],
   "source": [
    "compute_confusion_matrix(y_true=y_true_train, y_pred=y_pred_train, dpi=120)"
   ]
  },
  {
   "cell_type": "code",
   "execution_count": 12,
   "id": "0b97e9ea",
   "metadata": {},
   "outputs": [
    {
     "data": {
      "text/plain": [
       "{'Accuracy': '63.79%', 'Recall': '26.04%', 'Precision': '51.93%'}"
      ]
     },
     "execution_count": 12,
     "metadata": {},
     "output_type": "execute_result"
    }
   ],
   "source": [
    "compute_scores(y_true=y_true_train, y_pred=y_pred_train)"
   ]
  },
  {
   "cell_type": "markdown",
   "id": "b50a66f7",
   "metadata": {},
   "source": [
    "We obtain:\n",
    "- an accuracy score that is slightly better than the naïve model (exact match)\n",
    "- a recall score of **26%** (we still have a lot of **False negatives**)\n",
    "- a precision score of **52%** (a lot better in terms of **False positives**)\n",
    "\n",
    "The following cell will allow you to play around with the thresholds. Try to find a good combination that improves your score on the **training dataset**!\n",
    "\n",
    "Once you think you have a good combination, keep the thresholds values unchanged, and switch to the **test dataset**."
   ]
  },
  {
   "cell_type": "code",
   "execution_count": 13,
   "id": "b3355e40",
   "metadata": {},
   "outputs": [
    {
     "name": "stdout",
     "output_type": "stream",
     "text": [
      "Running on local URL:  http://127.0.0.1:7860/\n",
      "\n",
      "To create a public link, set `share=True` in `launch()`.\n"
     ]
    },
    {
     "data": {
      "text/html": [
       "\n",
       "        <iframe\n",
       "            width=\"900\"\n",
       "            height=\"800\"\n",
       "            src=\"http://127.0.0.1:7860/\"\n",
       "            frameborder=\"0\"\n",
       "            allowfullscreen\n",
       "            \n",
       "        ></iframe>\n",
       "        "
      ],
      "text/plain": [
       "<IPython.lib.display.IFrame at 0x13c148250>"
      ]
     },
     "metadata": {},
     "output_type": "display_data"
    },
    {
     "data": {
      "text/plain": [
       "(<fastapi.applications.FastAPI at 0x133237f40>, 'http://127.0.0.1:7860/', None)"
      ]
     },
     "execution_count": 13,
     "metadata": {},
     "output_type": "execute_result"
    }
   ],
   "source": [
    "interface = build_rule_configurator(features, targets)\n",
    "\n",
    "interface.launch(height=800)"
   ]
  },
  {
   "cell_type": "markdown",
   "id": "cfa700cd",
   "metadata": {},
   "source": [
    "# Next step\n",
    "\n",
    "Let's recap:\n",
    "- We transformed raw text into numeric representations: **feature engineering**\n",
    "- Then we defined a prediction function that uses the created features and applies thresholds to make a decision: **modeling**\n",
    "\n",
    "In order to find a correct set of parameter (thresholds), we tested multiple combinations. \n",
    "\n",
    "However, we cannot be sure that we found the optimal configuration. \n",
    "\n",
    "In the next notebook, we'll see how **Machine Learning** can help in finding a better model !"
   ]
  }
 ],
 "metadata": {
  "kernelspec": {
   "display_name": "maker_nlp_env",
   "language": "python",
   "name": "maker_nlp_env"
  },
  "language_info": {
   "codemirror_mode": {
    "name": "ipython",
    "version": 3
   },
   "file_extension": ".py",
   "mimetype": "text/x-python",
   "name": "python",
   "nbconvert_exporter": "python",
   "pygments_lexer": "ipython3",
   "version": "3.10.4"
  }
 },
 "nbformat": 4,
 "nbformat_minor": 5
}
